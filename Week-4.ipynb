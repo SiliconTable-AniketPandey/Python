{
 "cells": [
  {
   "cell_type": "markdown",
   "metadata": {},
   "source": [
    "# Week 4\n"
   ]
  },
  {
   "cell_type": "markdown",
   "metadata": {},
   "source": [
    "## A quiz"
   ]
  },
  {
   "cell_type": "code",
   "execution_count": 11,
   "metadata": {},
   "outputs": [
    {
     "name": "stdout",
     "output_type": "stream",
     "text": [
      "When did India gain its independence\n",
      "Correct\n"
     ]
    }
   ],
   "source": [
    "print(\"When did India gain its independence\")\n",
    "year= int(input())\n",
    "if year == 1947:\n",
    "    print(\"Correct\")\n",
    "else:\n",
    "    print(\"You fool !!\")"
   ]
  },
  {
   "cell_type": "markdown",
   "metadata": {},
   "source": [
    "### While loop"
   ]
  },
  {
   "cell_type": "code",
   "execution_count": 12,
   "metadata": {},
   "outputs": [
    {
     "name": "stdout",
     "output_type": "stream",
     "text": [
      "When did India gain its independence ?\n",
      "Incorrect  \tu😕\n",
      "When did India gain its independence ?\n",
      "Incorrect  \tu😕\n",
      "When did India gain its independence ?\n",
      "Correct\n"
     ]
    }
   ],
   "source": [
    "print(\"When did India gain its independence ?\")\n",
    "year= int(input())\n",
    "while year != 1947:\n",
    "    print(\"Incorrect \\U0001F615\")\n",
    "    print(\"When did India gain its independence ?\")\n",
    "    year= int(input())\n",
    "print(\"Correct\")"
   ]
  },
  {
   "cell_type": "markdown",
   "metadata": {},
   "source": [
    "#### Factorial"
   ]
  },
  {
   "cell_type": "code",
   "execution_count": 5,
   "metadata": {},
   "outputs": [
    {
     "name": "stdout",
     "output_type": "stream",
     "text": [
      "Enter a number\n",
      "Factorial of -99 is Not defined\n"
     ]
    }
   ],
   "source": [
    "print(\"Enter a number\")\n",
    "number = int(input())\n",
    "factorial = 1\n",
    "print(f\"Factorial of {number} is \",end = \"\")\n",
    "if number <0:\n",
    "        print(\"Not defined\")\n",
    "else :\n",
    "    while number != 0:\n",
    "        factorial = factorial * number\n",
    "        number = number - 1\n",
    "    print(factorial)"
   ]
  },
  {
   "cell_type": "markdown",
   "metadata": {},
   "source": [
    "#### Number of digits"
   ]
  },
  {
   "cell_type": "code",
   "execution_count": 10,
   "metadata": {},
   "outputs": [
    {
     "name": "stdout",
     "output_type": "stream",
     "text": [
      "Enter a number\n",
      "3\n"
     ]
    }
   ],
   "source": [
    "print(\"Enter a number\")\n",
    "number = str(int(input())) ## just in case if the user enters a floting point number\n",
    "digit = 0\n",
    "if number !=0:\n",
    "    digit = len(number)\n",
    "print(digit)"
   ]
  },
  {
   "cell_type": "code",
   "execution_count": 11,
   "metadata": {},
   "outputs": [
    {
     "name": "stdout",
     "output_type": "stream",
     "text": [
      "2\n"
     ]
    }
   ],
   "source": [
    "# Let's do it with a while loop\n",
    "number = abs(int(input(\"Enter a number\")))\n",
    "digits = 1\n",
    "while number > 9:\n",
    "    number = number // 10\n",
    "    digits = digits + 1\n",
    "print(digits)"
   ]
  }
 ],
 "metadata": {
  "kernelspec": {
   "display_name": "Python 3",
   "language": "python",
   "name": "python3"
  },
  "language_info": {
   "codemirror_mode": {
    "name": "ipython",
    "version": 3
   },
   "file_extension": ".py",
   "mimetype": "text/x-python",
   "name": "python",
   "nbconvert_exporter": "python",
   "pygments_lexer": "ipython3",
   "version": "3.12.2"
  }
 },
 "nbformat": 4,
 "nbformat_minor": 2
}
