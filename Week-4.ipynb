{
 "cells": [
  {
   "cell_type": "markdown",
   "metadata": {},
   "source": [
    "# **Week 4**\n"
   ]
  },
  {
   "cell_type": "markdown",
   "metadata": {},
   "source": [
    "## A quiz"
   ]
  },
  {
   "cell_type": "code",
   "execution_count": 11,
   "metadata": {},
   "outputs": [
    {
     "name": "stdout",
     "output_type": "stream",
     "text": [
      "When did India gain its independence\n",
      "Correct\n"
     ]
    }
   ],
   "source": [
    "print(\"When did India gain its independence\")\n",
    "year= int(input())\n",
    "if year == 1947:\n",
    "    print(\"Correct\")\n",
    "else:\n",
    "    print(\"You fool !!\")"
   ]
  },
  {
   "cell_type": "markdown",
   "metadata": {},
   "source": [
    "### While loop"
   ]
  },
  {
   "cell_type": "code",
   "execution_count": 12,
   "metadata": {},
   "outputs": [
    {
     "name": "stdout",
     "output_type": "stream",
     "text": [
      "When did India gain its independence ?\n",
      "Incorrect  \tu😕\n",
      "When did India gain its independence ?\n",
      "Incorrect  \tu😕\n",
      "When did India gain its independence ?\n",
      "Correct\n"
     ]
    }
   ],
   "source": [
    "print(\"When did India gain its independence ?\")\n",
    "year= int(input())\n",
    "while year != 1947:\n",
    "    print(\"Incorrect \\U0001F615\")\n",
    "    print(\"When did India gain its independence ?\")\n",
    "    year= int(input())\n",
    "print(\"Correct\")"
   ]
  },
  {
   "cell_type": "markdown",
   "metadata": {},
   "source": [
    "#### Factorial"
   ]
  },
  {
   "cell_type": "code",
   "execution_count": 5,
   "metadata": {},
   "outputs": [
    {
     "name": "stdout",
     "output_type": "stream",
     "text": [
      "Enter a number\n",
      "Factorial of -99 is Not defined\n"
     ]
    }
   ],
   "source": [
    "print(\"Enter a number\")\n",
    "number = int(input())\n",
    "factorial = 1\n",
    "print(f\"Factorial of {number} is \",end = \"\")\n",
    "if number <0:\n",
    "        print(\"Not defined\")\n",
    "else :\n",
    "    while number != 0:\n",
    "        factorial = factorial * number\n",
    "        number = number - 1\n",
    "    print(factorial)"
   ]
  },
  {
   "cell_type": "markdown",
   "metadata": {},
   "source": [
    "#### Number of digits"
   ]
  },
  {
   "cell_type": "code",
   "execution_count": 10,
   "metadata": {},
   "outputs": [
    {
     "name": "stdout",
     "output_type": "stream",
     "text": [
      "Enter a number\n",
      "3\n"
     ]
    }
   ],
   "source": [
    "print(\"Enter a number\")\n",
    "number = str(int(input())) ## just in case if the user enters a floting point number\n",
    "digit = 0\n",
    "if number !=0:\n",
    "    digit = len(number)\n",
    "print(digit)"
   ]
  },
  {
   "cell_type": "code",
   "execution_count": 11,
   "metadata": {},
   "outputs": [
    {
     "name": "stdout",
     "output_type": "stream",
     "text": [
      "2\n"
     ]
    }
   ],
   "source": [
    "# Let's do it with a while loop\n",
    "number = abs(int(input(\"Enter a number\")))\n",
    "digits = 1\n",
    "while number > 9:\n",
    "    number = number // 10\n",
    "    digits = digits + 1\n",
    "print(digits)\n"
   ]
  },
  {
   "cell_type": "markdown",
   "metadata": {},
   "source": [
    "### List"
   ]
  },
  {
   "cell_type": "code",
   "execution_count": 4,
   "metadata": {},
   "outputs": [
    {
     "name": "stdout",
     "output_type": "stream",
     "text": [
      "[9323, 8597, 7799, 7558, 9780, 2655, 9099, 6575, 1507, 5458, 2087, 164, 1744, 8070, 4716, 9197, 3778, 6234, 7340, 5280, 2092, 259, 2464, 4388, 7762, 3100, 510, 6661, 9396, 9797, 6401, 6430, 1964, 2103, 4716, 5550, 5651, 4660, 3138, 2490, 618, 1476, 4004, 7095, 1308, 8614, 1717, 714, 4393, 2069, 8490, 2701, 8022, 3552, 5690, 9901, 4407, 7438, 8848, 5079, 7062, 9692, 2079, 1355, 1511, 9254, 2790, 3396, 2807, 5212, 8971, 8072, 1521, 7856, 4936, 6282, 7752, 3257, 8118, 8132, 7412, 3273, 153, 3157, 8783, 5220, 7844, 9964, 5287, 8832, 458, 3019, 3408, 9795, 5230, 9116, 4253, 8863, 7789, 3941]\n",
      "100\n"
     ]
    }
   ],
   "source": [
    "import random\n",
    "l=[]\n",
    "for i in range(100): # 100 numbers will be selected\n",
    "    l.append(random.randint(0,10000))  # from 0,100000 and will be appended to l \n",
    "print(l)\n",
    "print(len(l))"
   ]
  },
  {
   "cell_type": "code",
   "execution_count": 11,
   "metadata": {},
   "outputs": [
    {
     "name": "stdout",
     "output_type": "stream",
     "text": [
      "Number not found\n"
     ]
    }
   ],
   "source": [
    "# Linear search in a list\n",
    "l=[1,44,2,55,66,88,26,126,11,63,6161,11]\n",
    "flag =0\n",
    "number=int(input(\"Enter a number to be searched \"))\n",
    "for num in range(len(l)):\n",
    "    if number == l[num]:\n",
    "        print(f\"{number} found at position {num}\")\n",
    "        flag =1\n",
    "        break\n",
    "if flag == 0:\n",
    "    print(\"Number not found\")"
   ]
  },
  {
   "cell_type": "code",
   "execution_count": 96,
   "metadata": {},
   "outputs": [
    {
     "name": "stdout",
     "output_type": "stream",
     "text": [
      "[]\n",
      "[0, 0, 1, 4, 11, 16, 44, 46, 46, 61, 61, 61, 325, 416, 611, 654]\n"
     ]
    }
   ],
   "source": [
    "# linear sorting\n",
    "l=[1,16,11,61,61,61,611,4,44,0,416,46,0,325,654,46]\n",
    "sorted_l=[]\n",
    "\n",
    "while len(l)>0:\n",
    "    minvalue = l[0]\n",
    "    for i in range(len(l)):\n",
    "        if l[i] < minvalue:\n",
    "            minvalue = l[i]\n",
    "    sorted_l.append(minvalue)\n",
    "    l.remove(minvalue)\n",
    "print(l)\n",
    "print(sorted_l)\n",
    "\n"
   ]
  },
  {
   "cell_type": "code",
   "execution_count": 100,
   "metadata": {},
   "outputs": [
    {
     "name": "stdout",
     "output_type": "stream",
     "text": [
      "[1, 3, 19, 20, 22, 27, 28, 29, 33, 34, 35, 38, 39, 42, 45, 46, 48, 49, 50, 51, 53, 54, 59, 60, 62, 64, 69, 70, 72, 74, 77, 78, 79, 80, 82, 84, 85, 88, 89, 95, 97, 98, 101, 102, 103, 107, 110, 112, 115, 116, 117, 121, 123, 124, 125, 126, 127, 129, 131, 133, 134, 136, 138, 139, 140, 141, 146, 151, 154, 155, 156, 157, 159, 162, 163, 171, 177, 179, 183, 184, 185, 187, 188, 194, 198]\n"
     ]
    }
   ],
   "source": [
    "# bubble sort\n",
    "import random\n",
    "l=[]\n",
    "for i in range(100):\n",
    "    l.append(random.randint(0,200))\n",
    "for i in range(len(l)):\n",
    "    for j in range(len(l)-i-1):\n",
    "        if l[j]>l[j+1]:\n",
    "            l[j],l[j+1]=l[j+1],l[j]\n",
    "        if l[j] == l[j+1]:\n",
    "            l.remove(l[j]) # remove dublicate items, optional\n",
    "print(l)\n"
   ]
  },
  {
   "cell_type": "markdown",
   "metadata": {},
   "source": [
    "### Simple Dot product"
   ]
  },
  {
   "cell_type": "code",
   "execution_count": 106,
   "metadata": {},
   "outputs": [
    {
     "name": "stdout",
     "output_type": "stream",
     "text": [
      "140\n"
     ]
    }
   ],
   "source": [
    "l = [0,1,2,3,6,5,4,7,8,9]\n",
    "m = [7,8,9,4,5,6,1,2,3,0]\n",
    "result = 0\n",
    "if len(l) == len(m):\n",
    "    for i in range(len(l)):\n",
    "       result += l[i]*m[i]\n",
    "print(result)\n"
   ]
  },
  {
   "cell_type": "markdown",
   "metadata": {},
   "source": [
    "### Matrix addition"
   ]
  },
  {
   "cell_type": "code",
   "execution_count": 110,
   "metadata": {},
   "outputs": [
    {
     "name": "stdout",
     "output_type": "stream",
     "text": [
      "[7, 9, 11, 7, 11, 11, 5, 9, 11, 9]\n"
     ]
    }
   ],
   "source": [
    "l = [0,1,2,3,6,5,4,7,8,9]\n",
    "m = [7,8,9,4,5,6,1,2,3,0]\n",
    "result = []\n",
    "if len(l) == len(m):\n",
    "    for i in range(len(l)):\n",
    "        result.append(l[i]+m[i])\n",
    "print(result)"
   ]
  },
  {
   "cell_type": "code",
   "execution_count": 131,
   "metadata": {},
   "outputs": [
    {
     "name": "stdout",
     "output_type": "stream",
     "text": [
      "[[1, 2, 3, 4, 5, 6, 7, 8, 9], [7, 8, 9, 4, 5, 6, 1, 2, 3], [2, 5, 8, 7, 4, 1, 3, 6, 9]]\n",
      "[[7, 8, 9, 4, 5, 6, 1, 2, 3], [2, 5, 8, 7, 4, 1, 3, 6, 9], [2, 5, 8, 7, 4, 1, 3, 6, 9]]\n",
      "[[8, 10, 12, 8, 10, 12, 8, 10, 12], [9, 13, 17, 11, 9, 7, 4, 8, 12], [4, 10, 16, 14, 8, 2, 6, 12, 18]]\n"
     ]
    }
   ],
   "source": [
    "\n",
    "r1 = [1,2,3,4,5,6,7,8,9]\n",
    "r2 = [7,8,9,4,5,6,1,2,3]\n",
    "r3 = [2,5,8,7,4,1,3,6,9]\n",
    "\n",
    "m1 = [7,8,9,4,5,6,1,2,3]\n",
    "m2 = [2,5,8,7,4,1,3,6,9]\n",
    "m3 = [2,5,8,7,4,1,3,6,9]\n",
    "\n",
    "\n",
    "A = []\n",
    "B = []\n",
    "C = [[0,0,0,0,0,0,0,0,0],[0,0,0,0,0,0,0,0,0],[0,0,0,0,0,0,0,0,0]]\n",
    "A = [r1,r2,r3]\n",
    "B = [m1,m2,m3]\n",
    "\n",
    "\n",
    "\n",
    "for i in range(3): # coulmn \n",
    "    for j in range(len(r1)): # row\n",
    "        C[i][j] = (A[i][j]+B[i][j])\n",
    "        \n",
    "print(A)\n",
    "print(B)\n",
    "\n",
    "        \n",
    "print(C) # list within a list\n",
    "\n",
    "\n"
   ]
  },
  {
   "cell_type": "markdown",
   "metadata": {},
   "source": [
    "### Matrix Multiplication\n"
   ]
  },
  {
   "cell_type": "code",
   "execution_count": 137,
   "metadata": {},
   "outputs": [
    {
     "name": "stdout",
     "output_type": "stream",
     "text": [
      "[[150, 261, 372, 279, 192, 105, 111, 222, 333], [150, 261, 372, 279, 192, 105, 111, 222, 333], [150, 261, 372, 279, 192, 105, 111, 222, 333], [150, 261, 372, 279, 192, 105, 111, 222, 333], [150, 261, 372, 279, 192, 105, 111, 222, 333], [150, 261, 372, 279, 192, 105, 111, 222, 333], [150, 261, 372, 279, 192, 105, 111, 222, 333], [150, 261, 372, 279, 192, 105, 111, 222, 333], [150, 261, 372, 279, 192, 105, 111, 222, 333]]\n",
      "\n",
      "\n",
      "\n",
      "[[150 261 372 279 192 105 111 222 333]\n",
      " [150 261 372 279 192 105 111 222 333]\n",
      " [150 261 372 279 192 105 111 222 333]\n",
      " [150 261 372 279 192 105 111 222 333]\n",
      " [150 261 372 279 192 105 111 222 333]\n",
      " [150 261 372 279 192 105 111 222 333]\n",
      " [150 261 372 279 192 105 111 222 333]\n",
      " [150 261 372 279 192 105 111 222 333]\n",
      " [150 261 372 279 192 105 111 222 333]]\n"
     ]
    }
   ],
   "source": [
    "import numpy as np\n",
    "r1 = [1,2,3,4,5,6,7,8,9]\n",
    "r2 = [7,8,9,4,5,6,1,2,3]\n",
    "r3 = [2,5,8,7,4,1,3,6,9]\n",
    "r4 = [1,2,3,4,5,6,7,8,9]\n",
    "r5 = [7,8,9,4,5,6,1,2,3]\n",
    "r6 = [2,5,8,7,4,1,3,6,9]\n",
    "r7 = [1,2,3,4,5,6,7,8,9]\n",
    "r8 = [7,8,9,4,5,6,1,2,3]\n",
    "r9 = [2,5,8,7,4,1,3,6,9]\n",
    "\n",
    "m1 = [7,8,9,4,5,6,1,2,3]\n",
    "m2 = [2,5,8,7,4,1,3,6,9]\n",
    "m3 = [2,5,8,7,4,1,3,6,9]\n",
    "m4 = [7,8,9,4,5,6,1,2,3]\n",
    "m5 = [2,5,8,7,4,1,3,6,9]\n",
    "m6 = [2,5,8,7,4,1,3,6,9]\n",
    "m7 = [7,8,9,4,5,6,1,2,3]\n",
    "m8 = [2,5,8,7,4,1,3,6,9]\n",
    "m9 = [2,5,8,7,4,1,3,6,9]\n",
    "\n",
    "A = [r1,r2,r3,r4,r5,r6,r7,r8,r9]\n",
    "B = [m1,m2,m3,m4,m5,m6,m7,m8,m9]\n",
    "\n",
    "product = [[0,0,0,0,0,0,0,0,0],[0,0,0,0,0,0,0,0,0],[0,0,0,0,0,0,0,0,0],[0,0,0,0,0,0,0,0,0],[0,0,0,0,0,0,0,0,0],[0,0,0,0,0,0,0,0,0],[0,0,0,0,0,0,0,0,0],[0,0,0,0,0,0,0,0,0],[0,0,0,0,0,0,0,0,0]]\n",
    "\n",
    "for i in range(9):\n",
    "    for j in range(len(r1)):\n",
    "        for k in range(9):\n",
    "            product[i][j] = product[i][j] + A[i][k]*B[k][j]\n",
    "        \n",
    "print(product)\n",
    "\n",
    "print(\"\\n\\n\")\n",
    "A = np.mat(A)\n",
    "B = np.mat(B)\n",
    "print(A*B) # To verify"
   ]
  }
 ],
 "metadata": {
  "kernelspec": {
   "display_name": "Python 3",
   "language": "python",
   "name": "python3"
  },
  "language_info": {
   "codemirror_mode": {
    "name": "ipython",
    "version": 3
   },
   "file_extension": ".py",
   "mimetype": "text/x-python",
   "name": "python",
   "nbconvert_exporter": "python",
   "pygments_lexer": "ipython3",
   "version": "3.12.2"
  }
 },
 "nbformat": 4,
 "nbformat_minor": 2
}
