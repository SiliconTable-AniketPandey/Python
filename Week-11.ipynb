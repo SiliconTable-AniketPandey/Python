{
 "cells": [
  {
   "cell_type": "markdown",
   "metadata": {},
   "source": [
    "# **Week-11**"
   ]
  },
  {
   "cell_type": "markdown",
   "metadata": {},
   "source": [
    "## Exception Handeling"
   ]
  },
  {
   "cell_type": "code",
   "execution_count": 2,
   "metadata": {},
   "outputs": [
    {
     "ename": "ZeroDivisionError",
     "evalue": "division by zero",
     "output_type": "error",
     "traceback": [
      "\u001b[1;31m---------------------------------------------------------------------------\u001b[0m",
      "\u001b[1;31mZeroDivisionError\u001b[0m                         Traceback (most recent call last)",
      "Cell \u001b[1;32mIn[2], line 3\u001b[0m\n\u001b[0;32m      1\u001b[0m a \u001b[38;5;241m=\u001b[39m \u001b[38;5;28mint\u001b[39m(\u001b[38;5;28minput\u001b[39m(\u001b[38;5;124m'\u001b[39m\u001b[38;5;124mEnter a number\u001b[39m\u001b[38;5;124m'\u001b[39m))\n\u001b[0;32m      2\u001b[0m b \u001b[38;5;241m=\u001b[39m \u001b[38;5;28mint\u001b[39m(\u001b[38;5;28minput\u001b[39m(\u001b[38;5;124m'\u001b[39m\u001b[38;5;124mEnter another number\u001b[39m\u001b[38;5;124m'\u001b[39m))\n\u001b[1;32m----> 3\u001b[0m c \u001b[38;5;241m=\u001b[39m \u001b[43ma\u001b[49m\u001b[38;5;241;43m/\u001b[39;49m\u001b[43mb\u001b[49m\n\u001b[0;32m      4\u001b[0m \u001b[38;5;28mprint\u001b[39m(c)\n",
      "\u001b[1;31mZeroDivisionError\u001b[0m: division by zero"
     ]
    }
   ],
   "source": [
    "a = int(input('Enter a number'))\n",
    "b = int(input('Enter another number'))\n",
    "c = a/b         # if you enter 0 as b then it will give division by zero error\n",
    "print(c)"
   ]
  },
  {
   "cell_type": "markdown",
   "metadata": {},
   "source": [
    "## try and except"
   ]
  },
  {
   "cell_type": "code",
   "execution_count": 1,
   "metadata": {},
   "outputs": [
    {
     "name": "stdout",
     "output_type": "stream",
     "text": [
      "Invalid input, are you dumb?\n"
     ]
    }
   ],
   "source": [
    "a = int(input('Enter a number'))\n",
    "b = int(input('Enter another number'))\n",
    "try:\n",
    "    c = a/b         # if you enter 0 as b then it will give a different kind of error/message\n",
    "    print(c)\n",
    "except ZeroDivisionError:\n",
    "    print('Invalid input, are you dumb?') # lol\n",
    "    \n",
    "except NameError:\n",
    "    print('Variable not defined')"
   ]
  },
  {
   "cell_type": "code",
   "execution_count": 2,
   "metadata": {},
   "outputs": [
    {
     "name": "stdout",
     "output_type": "stream",
     "text": [
      "Variable not defined\n"
     ]
    }
   ],
   "source": [
    "a = int(input('Enter a number'))\n",
    "b = int(input('Enter another number'))\n",
    "try:\n",
    "    c = a/b         # if you enter 0 as b then it will give a different kind of error/message\n",
    "    print(d)        # Ehh, what is d?\n",
    "except ZeroDivisionError:\n",
    "    print('Invalid input, are you dumb?') # lol\n",
    "    \n",
    "except NameError:\n",
    "    print('Variable not defined') # In this code this line will be executed"
   ]
  },
  {
   "cell_type": "code",
   "execution_count": 4,
   "metadata": {},
   "outputs": [
    {
     "name": "stdout",
     "output_type": "stream",
     "text": [
      "Hey! where is the file man\n"
     ]
    }
   ],
   "source": [
    "try:\n",
    "    with open('Where_is_this_file.txt','r') as f:\n",
    "        print('File found')                 # Yes file will not be found unless you create 'Where_is _this_file.txt'\n",
    "except FileNotFoundError:\n",
    "    print(\"Hey! where is the file man\")"
   ]
  },
  {
   "cell_type": "markdown",
   "metadata": {},
   "source": [
    "From now on in order to be a good programmer, it is necessary to write programs with exception handeling at most of the times where it is applicable"
   ]
  },
  {
   "cell_type": "markdown",
   "metadata": {},
   "source": [
    "**What if there exist a kind of error that you and the computer might not have anticipited of?**"
   ]
  },
  {
   "cell_type": "code",
   "execution_count": 1,
   "metadata": {},
   "outputs": [
    {
     "name": "stdout",
     "output_type": "stream",
     "text": [
      "Enter numbers only\n"
     ]
    }
   ],
   "source": [
    "try:                                    # Every try should have at least 1 except\n",
    "    a = int(input('Enter a number'))\n",
    "    b = int(input('Enter another number'))\n",
    "    c = a/b         \n",
    "    print(c)\n",
    "    \n",
    "    \n",
    "except ValueError:\n",
    "    print('Enter numbers only')                                \n",
    "\n",
    "except ZeroDivisionError:                   \n",
    "    print('Invalid input, are you dumb?')\n",
    "    \n",
    "except NameError:\n",
    "    print('Variable not defined')\n",
    "    \n",
    "except:\n",
    "    print('Somthing went wrong')  # Now you no why 'Somthing went wrong' pops up in you phone, because they also don't know about it\n",
    "    "
   ]
  },
  {
   "cell_type": "markdown",
   "metadata": {},
   "source": [
    "**In python there are arround 30 exceptions**"
   ]
  },
  {
   "cell_type": "code",
   "execution_count": 3,
   "metadata": {},
   "outputs": [
    {
     "name": "stdout",
     "output_type": "stream",
     "text": [
      "Invalid input, are you dumb. How can you divide by zero?\n",
      "File closed\n"
     ]
    }
   ],
   "source": [
    "try:                                    # Every try should have at least 1 except\n",
    "    a = int(input('Enter a number'))\n",
    "    b = int(input('Enter another number'))\n",
    "    f = open('SherlockHolmes.txt','r')\n",
    "    c = a/b                             # I will enter 0 here         \n",
    "    print(c)                            # this will give the exception of ZeroDivisionError and the program will be terminated but the file never gets closed and it is still in the memory and we nedd to release that memory\n",
    "    print(f.read())\n",
    "    f.close()\n",
    "    \n",
    "    \n",
    "except ValueError:\n",
    "    print('Enter numbers only')                                \n",
    "\n",
    "except ZeroDivisionError:                   \n",
    "    print('Invalid input, are you dumb. How can you divide by zero?')\n",
    "    \n",
    "except NameError:\n",
    "    print('Variable not defined')\n",
    "    \n",
    "except:\n",
    "    print('Somthing went wrong')\n",
    "    \n",
    "finally:                            # What ever happens at the end this line will always be executed it like the ultimate truth kind of like deth, it will get you one day\n",
    "    f.close()                       # and so after the exception the memory will be released\n",
    "    print('File closed')"
   ]
  },
  {
   "cell_type": "markdown",
   "metadata": {},
   "source": [
    "**But what if exception happens in the finally block too?**"
   ]
  },
  {
   "cell_type": "code",
   "execution_count": 5,
   "metadata": {},
   "outputs": [
    {
     "name": "stdout",
     "output_type": "stream",
     "text": [
      "Invalid input, are you dumb. How can you divide by zero?\n",
      "Mission failed, file not found\n"
     ]
    }
   ],
   "source": [
    "try:                                    # Every try should have at least 1 except\n",
    "    a = int(input('Enter a number'))\n",
    "    b = int(input('Enter another number'))\n",
    "    f = open('SherlockHolmes.txt','r')\n",
    "    c = a/b                             # I will enter 0 here         \n",
    "    print(c)                            # this will give the exception of ZeroDivisionError and the program will be terminated but the file never gets closed and it is still in the memory and we nedd to release that memory\n",
    "    print(f.read())\n",
    "    f.close()\n",
    "    \n",
    "    \n",
    "except ValueError:\n",
    "    print('Enter numbers only')                                \n",
    "\n",
    "except ZeroDivisionError:                   \n",
    "    print('Invalid input, are you dumb. How can you divide by zero?')\n",
    "    \n",
    "except NameError:\n",
    "    print('Variable not defined')\n",
    "    \n",
    "except:\n",
    "    print('Somthing went wrong')\n",
    "    \n",
    "finally:                            # if any exception comes up python will come down to this block and do the things described in here first and if any exception is not handled by finally then it will come \n",
    "                                    # out of this block after completing all the tasks of this block and look for exceptions espicified by the developer in the exception blocks outside the finally block\n",
    "    \n",
    "    try:\n",
    "        s.close()                       # and so after the exception the memory will be released\n",
    "        print('File closed')            # it should give name error\n",
    "        \n",
    "    except NameError:\n",
    "        print('Mission failed, file not found')"
   ]
  },
  {
   "cell_type": "markdown",
   "metadata": {},
   "source": [
    "```bash\n",
    "    If exceptions occur within a finally block in Python, the behavior can affect how the program handles errors and executes cleanup operations. \n",
    "    Here's a detailed explanation of what happens:\n",
    "\n",
    "    Purpose of finally Block:\n",
    "        The finally block in Python is used to define clean-up actions that must be executed under all circumstances, whether an exception occurs or not. \n",
    "        It is typically used to release external resources (like files or network connections) regardless of whether the code block inside the try block raised an exception or not.\n",
    "\n",
    "    Execution Flow:\n",
    "        When an exception occurs within the try block, Python checks if there is a finally block associated with it. \n",
    "        If present, Python first executes the code inside the finally block before propagating the exception up the call stack.\n",
    "\n",
    "    Handling Exceptions in finally:\n",
    "        If an exception occurs within the finally block itself:\n",
    "            If this exception is not caught within the finally block, it will propagate outward.\n",
    "            The original exception raised in the try block (if any) will be temporarily suspended while Python processes the new exception from the finally block.\n",
    "            Once the finally block completes (or an exception occurs within it), Python resumes the handling of the original exception.\n",
    "\n",
    "    Exception Propagation:\n",
    "        If an exception occurs within the finally block and it is not caught within that block, the exception will propagate upward in the call stack.\n",
    "        If the original exception from the try block is still being handled (i.e., has not been caught yet), the new exception from the finally block will take precedence.\n",
    "\n",
    "    Uncaught Exceptions:\n",
    "        If an exception occurs in the finally block and it is not caught within that block, Python will continue to propagate the exception to the calling context \n",
    "        (and potentially further up the stack) until it is handled by an appropriate except block or reaches the top level (causing the program to terminate).\n",
    "```"
   ]
  }
 ],
 "metadata": {
  "kernelspec": {
   "display_name": "Python 3",
   "language": "python",
   "name": "python3"
  },
  "language_info": {
   "codemirror_mode": {
    "name": "ipython",
    "version": 3
   },
   "file_extension": ".py",
   "mimetype": "text/x-python",
   "name": "python",
   "nbconvert_exporter": "python",
   "pygments_lexer": "ipython3",
   "version": "3.12.2"
  }
 },
 "nbformat": 4,
 "nbformat_minor": 2
}
