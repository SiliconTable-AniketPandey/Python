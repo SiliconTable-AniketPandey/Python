{
 "cells": [
  {
   "cell_type": "markdown",
   "metadata": {},
   "source": [
    "# **Week-11**"
   ]
  },
  {
   "cell_type": "markdown",
   "metadata": {},
   "source": [
    "## Exception Handeling"
   ]
  },
  {
   "cell_type": "code",
   "execution_count": 2,
   "metadata": {},
   "outputs": [
    {
     "ename": "ZeroDivisionError",
     "evalue": "division by zero",
     "output_type": "error",
     "traceback": [
      "\u001b[1;31m---------------------------------------------------------------------------\u001b[0m",
      "\u001b[1;31mZeroDivisionError\u001b[0m                         Traceback (most recent call last)",
      "Cell \u001b[1;32mIn[2], line 3\u001b[0m\n\u001b[0;32m      1\u001b[0m a \u001b[38;5;241m=\u001b[39m \u001b[38;5;28mint\u001b[39m(\u001b[38;5;28minput\u001b[39m(\u001b[38;5;124m'\u001b[39m\u001b[38;5;124mEnter a number\u001b[39m\u001b[38;5;124m'\u001b[39m))\n\u001b[0;32m      2\u001b[0m b \u001b[38;5;241m=\u001b[39m \u001b[38;5;28mint\u001b[39m(\u001b[38;5;28minput\u001b[39m(\u001b[38;5;124m'\u001b[39m\u001b[38;5;124mEnter another number\u001b[39m\u001b[38;5;124m'\u001b[39m))\n\u001b[1;32m----> 3\u001b[0m c \u001b[38;5;241m=\u001b[39m \u001b[43ma\u001b[49m\u001b[38;5;241;43m/\u001b[39;49m\u001b[43mb\u001b[49m\n\u001b[0;32m      4\u001b[0m \u001b[38;5;28mprint\u001b[39m(c)\n",
      "\u001b[1;31mZeroDivisionError\u001b[0m: division by zero"
     ]
    }
   ],
   "source": [
    "a = int(input('Enter a number'))\n",
    "b = int(input('Enter another number'))\n",
    "c = a/b         # if you enter 0 as b then it will give division by zero error\n",
    "print(c)"
   ]
  },
  {
   "cell_type": "markdown",
   "metadata": {},
   "source": [
    "## try and except"
   ]
  },
  {
   "cell_type": "code",
   "execution_count": 1,
   "metadata": {},
   "outputs": [
    {
     "name": "stdout",
     "output_type": "stream",
     "text": [
      "Invalid input, are you dumb?\n"
     ]
    }
   ],
   "source": [
    "a = int(input('Enter a number'))\n",
    "b = int(input('Enter another number'))\n",
    "try:\n",
    "    c = a/b         # if you enter 0 as b then it will give a different kind of error/message\n",
    "    print(c)\n",
    "except ZeroDivisionError:\n",
    "    print('Invalid input, are you dumb?') # lol\n",
    "    \n",
    "except NameError:\n",
    "    print('Variable not defined')"
   ]
  },
  {
   "cell_type": "code",
   "execution_count": 2,
   "metadata": {},
   "outputs": [
    {
     "name": "stdout",
     "output_type": "stream",
     "text": [
      "Variable not defined\n"
     ]
    }
   ],
   "source": [
    "a = int(input('Enter a number'))\n",
    "b = int(input('Enter another number'))\n",
    "try:\n",
    "    c = a/b         # if you enter 0 as b then it will give a different kind of error/message\n",
    "    print(d)        # Ehh, what is d?\n",
    "except ZeroDivisionError:\n",
    "    print('Invalid input, are you dumb?') # lol\n",
    "    \n",
    "except NameError:\n",
    "    print('Variable not defined') # In this code this line will be executed"
   ]
  },
  {
   "cell_type": "code",
   "execution_count": 4,
   "metadata": {},
   "outputs": [
    {
     "name": "stdout",
     "output_type": "stream",
     "text": [
      "Hey! where is the file man\n"
     ]
    }
   ],
   "source": [
    "try:\n",
    "    with open('Where_is_this_file.txt','r') as f:\n",
    "        print('File found')                 # Yes file will not be found unless you create 'Where_is _this_file.txt'\n",
    "except FileNotFoundError:\n",
    "    print(\"Hey! where is the file man\")"
   ]
  },
  {
   "cell_type": "markdown",
   "metadata": {},
   "source": [
    "From now on in order to be a good programmer, it is necessary to write programs with exception handeling at most of the times where it is applicable"
   ]
  },
  {
   "cell_type": "markdown",
   "metadata": {},
   "source": [
    "**What if there exist a kind of error that you and the computer might not have anticipited of?**"
   ]
  },
  {
   "cell_type": "code",
   "execution_count": 1,
   "metadata": {},
   "outputs": [
    {
     "name": "stdout",
     "output_type": "stream",
     "text": [
      "Enter numbers only\n"
     ]
    }
   ],
   "source": [
    "try:                                    # Every try should have at least 1 except\n",
    "    a = int(input('Enter a number'))\n",
    "    b = int(input('Enter another number'))\n",
    "    c = a/b         \n",
    "    print(c)\n",
    "    \n",
    "    \n",
    "except ValueError:\n",
    "    print('Enter numbers only')                                \n",
    "\n",
    "except ZeroDivisionError:                   \n",
    "    print('Invalid input, are you dumb?')\n",
    "    \n",
    "except NameError:\n",
    "    print('Variable not defined')\n",
    "    \n",
    "except:\n",
    "    print('Somthing went wrong')  # Now you no why 'Somthing went wrong' pops up in you phone, because they also don't know about it\n",
    "    "
   ]
  },
  {
   "cell_type": "markdown",
   "metadata": {},
   "source": [
    "**In python there are arround 30 exceptions**"
   ]
  },
  {
   "cell_type": "code",
   "execution_count": 3,
   "metadata": {},
   "outputs": [
    {
     "name": "stdout",
     "output_type": "stream",
     "text": [
      "Invalid input, are you dumb. How can you divide by zero?\n",
      "File closed\n"
     ]
    }
   ],
   "source": [
    "try:                                    # Every try should have at least 1 except\n",
    "    a = int(input('Enter a number'))\n",
    "    b = int(input('Enter another number'))\n",
    "    f = open('SherlockHolmes.txt','r')\n",
    "    c = a/b                             # I will enter 0 here         \n",
    "    print(c)                            # this will give the exception of ZeroDivisionError and the program will be terminated but the file never gets closed and it is still in the memory and we nedd to release that memory\n",
    "    print(f.read())\n",
    "    f.close()\n",
    "    \n",
    "    \n",
    "except ValueError:\n",
    "    print('Enter numbers only')                                \n",
    "\n",
    "except ZeroDivisionError:                   \n",
    "    print('Invalid input, are you dumb. How can you divide by zero?')\n",
    "    \n",
    "except NameError:\n",
    "    print('Variable not defined')\n",
    "    \n",
    "except:\n",
    "    print('Somthing went wrong')\n",
    "    \n",
    "finally:                            # What ever happens at the end this line will always be executed it like the ultimate truth kind of like deth, it will get you one day\n",
    "    f.close()                       # and so after the exception the memory will be released\n",
    "    print('File closed')"
   ]
  },
  {
   "cell_type": "markdown",
   "metadata": {},
   "source": [
    "**But what if exception happens in the finally block too?**"
   ]
  },
  {
   "cell_type": "code",
   "execution_count": 5,
   "metadata": {},
   "outputs": [
    {
     "name": "stdout",
     "output_type": "stream",
     "text": [
      "Invalid input, are you dumb. How can you divide by zero?\n",
      "Mission failed, file not found\n"
     ]
    }
   ],
   "source": [
    "try:                                    # Every try should have at least 1 except\n",
    "    a = int(input('Enter a number'))\n",
    "    b = int(input('Enter another number'))\n",
    "    f = open('SherlockHolmes.txt','r')\n",
    "    c = a/b                             # I will enter 0 here         \n",
    "    print(c)                            # this will give the exception of ZeroDivisionError and the program will be terminated but the file never gets closed and it is still in the memory and we nedd to release that memory\n",
    "    print(f.read())\n",
    "    f.close()\n",
    "    \n",
    "    \n",
    "except ValueError:\n",
    "    print('Enter numbers only')                                \n",
    "\n",
    "except ZeroDivisionError:                   \n",
    "    print('Invalid input, are you dumb. How can you divide by zero?')\n",
    "    \n",
    "except NameError:\n",
    "    print('Variable not defined')\n",
    "    \n",
    "except:\n",
    "    print('Somthing went wrong')\n",
    "    \n",
    "finally:                            # if any exception comes up python will come down to this block and do the things described in here first and if any exception is not handled by finally then it will come \n",
    "                                    # out of this block after completing all the tasks of this block and look for exceptions espicified by the developer in the exception blocks outside the finally block\n",
    "    \n",
    "    try:\n",
    "        s.close()                       # and so after the exception the memory will be released\n",
    "        print('File closed')            # it should give name error\n",
    "        \n",
    "    except NameError:\n",
    "        print('Mission failed, file not found')"
   ]
  },
  {
   "cell_type": "markdown",
   "metadata": {},
   "source": [
    "```text\n",
    "    If exceptions occurs within a finally block in Python, the behavior can affect how the program handles errors and executes cleanup operations. \n",
    "    Here's a detailed explanation of what happens:\n",
    "\n",
    "    Purpose of finally Block:\n",
    "        The finally block in Python is used to define clean-up actions that must be executed under all circumstances, whether an exception occurs or not. \n",
    "        It is typically used to release external resources (like files or network connections) regardless of whether the code block inside the try block raised an exception or not.\n",
    "\n",
    "    Execution Flow:\n",
    "        When an exception occurs within the try block, Python checks if there is a finally block associated with it. \n",
    "        If present, Python first executes the code inside the finally block before propagating the exception up the call stack.\n",
    "\n",
    "    Handling Exceptions in finally:\n",
    "        If an exception occurs within the finally block itself:\n",
    "            If this exception is not caught within the finally block, it will propagate outward.\n",
    "            The original exception raised in the try block (if any) will be temporarily suspended while Python processes the new exception from the finally block.\n",
    "            Once the finally block completes (or an exception occurs within it), Python resumes the handling of the original exception.\n",
    "\n",
    "    Exception Propagation:\n",
    "        If an exception occurs within the finally block and it is not caught within that block, the exception will propagate upward in the call stack.\n",
    "        If the original exception from the try block is still being handled (i.e., has not been caught yet), the new exception from the finally block will take precedence.\n",
    "\n",
    "    Uncaught Exceptions:\n",
    "        If an exception occurs in the finally block and it is not caught within that block, Python will continue to propagate the exception to the calling context \n",
    "        (and potentially further up the stack) until it is handled by an appropriate except block or reaches the top level (causing the program to terminate).\n",
    "```"
   ]
  },
  {
   "cell_type": "markdown",
   "metadata": {},
   "source": [
    "### What if you want to create your own exceptions?"
   ]
  },
  {
   "cell_type": "code",
   "execution_count": 6,
   "metadata": {},
   "outputs": [
    {
     "ename": "Exception",
     "evalue": "You are underage and cannot vote, go back to you momma",
     "output_type": "error",
     "traceback": [
      "\u001b[1;31m---------------------------------------------------------------------------\u001b[0m",
      "\u001b[1;31mException\u001b[0m                                 Traceback (most recent call last)",
      "Cell \u001b[1;32mIn[6], line 3\u001b[0m\n\u001b[0;32m      1\u001b[0m age \u001b[38;5;241m=\u001b[39m\u001b[38;5;28mint\u001b[39m(\u001b[38;5;28minput\u001b[39m(\u001b[38;5;124m'\u001b[39m\u001b[38;5;124mEnter your age\u001b[39m\u001b[38;5;124m'\u001b[39m))\n\u001b[0;32m      2\u001b[0m \u001b[38;5;28;01mif\u001b[39;00m age \u001b[38;5;241m<\u001b[39m\u001b[38;5;241m=\u001b[39m\u001b[38;5;241m18\u001b[39m:\n\u001b[1;32m----> 3\u001b[0m     \u001b[38;5;28;01mraise\u001b[39;00m \u001b[38;5;167;01mException\u001b[39;00m(\u001b[38;5;124m'\u001b[39m\u001b[38;5;124mYou are underage and cannot vote, go back to you momma\u001b[39m\u001b[38;5;124m'\u001b[39m)\n",
      "\u001b[1;31mException\u001b[0m: You are underage and cannot vote, go back to you momma"
     ]
    }
   ],
   "source": [
    "age =int(input('Enter your age')) # someone entered 0\n",
    "if age <=18:\n",
    "    raise Exception('You are underage and cannot vote, go back to you momma')"
   ]
  },
  {
   "cell_type": "markdown",
   "metadata": {},
   "source": [
    "### Remember what uncle Ben said with power comes responsibility and so with exception comes handeling \n",
    "### so go back and rewrite/modify all of the code from week-1 to week-10 with exception handeling.\n",
    "### What are you looking at, just go."
   ]
  },
  {
   "cell_type": "markdown",
   "metadata": {},
   "source": [
    "# **Functional Programming 1**"
   ]
  },
  {
   "cell_type": "markdown",
   "metadata": {},
   "source": [
    "## Iterator"
   ]
  },
  {
   "cell_type": "code",
   "execution_count": 9,
   "metadata": {},
   "outputs": [
    {
     "name": "stdout",
     "output_type": "stream",
     "text": [
      "Aniket\n",
      "Ragav\n",
      "Ramesh\n",
      "Ramu\n",
      "Rajesh\n",
      "Rakesh\n",
      "Rajwat\n",
      "Raj\n"
     ]
    }
   ],
   "source": [
    "names = ['Aniket','Ragav','Ramesh','Ramu','Rajesh','Rakesh','Rajwat','Raj']\n",
    "\n",
    "picker = iter(names)\n",
    "\n",
    "print(next(picker)) # 1st name \n",
    "\n",
    "print(next(picker)) # 2end name\n",
    "\n",
    "print(next(picker)) # 3rd name\n",
    "\n",
    "print(next(picker)) # 4th name\n",
    "\n",
    "print(next(picker)) # 5th name\n",
    "\n",
    "print(next(picker)) # 6th name\n",
    "\n",
    "print(next(picker)) # 7th name\n",
    "\n",
    "print(next(picker)) # 8th name\n",
    "\n",
    "# print(next(picker)) # 9th name? does it even exist ? Will give stop iteration error"
   ]
  },
  {
   "cell_type": "code",
   "execution_count": 10,
   "metadata": {},
   "outputs": [
    {
     "name": "stdout",
     "output_type": "stream",
     "text": [
      "1\n",
      "2\n",
      "3\n",
      "4\n",
      "5\n"
     ]
    }
   ],
   "source": [
    "numbers = [1, 2, 3, 4, 5]\n",
    "iterator = iter(numbers)  # Get an iterator from the list\n",
    "while True:\n",
    "    try:\n",
    "        value = next(iterator)  # Get next item from iterator\n",
    "        print(value)\n",
    "    except StopIteration:\n",
    "        break"
   ]
  },
  {
   "cell_type": "markdown",
   "metadata": {},
   "source": [
    "```text\n",
    "    Iterators are essential in Python for enabling efficient and flexible traversal of data structures, particularly for objects that are iterable (i.e., capable of returning elements one at a time). \n",
    "    Understanding iterators is fundamental to working with loops, comprehensions, and other iterable-based operations in Python. Here's why iterators are useful and how they are used:\n",
    "    \n",
    "    What is an Iterator?\n",
    "\n",
    "    An iterator in Python is an object that implements the iterator protocol, which consists of two methods:\n",
    "\n",
    "        __iter__(): This method returns the iterator object itself. It is called when the iterator is required (e.g., by a for loop).\n",
    "\n",
    "        __next__(): This method returns the next item from the iterator. It raises a StopIteration exception when there are no more items to return.\n",
    "\n",
    "    Benefits of Iterators:\n",
    "\n",
    "        Lazy Evaluation:\n",
    "            Iterators allow for lazy evaluation of elements, meaning that they produce elements on-the-fly as requested, rather than computing or storing all elements in advance.\n",
    "            This is particularly useful when dealing with large or infinite sequences (e.g., generating Fibonacci numbers).\n",
    "\n",
    "        Memory Efficiency:\n",
    "            Since iterators compute elements on demand, they can be more memory-efficient compared to storing all elements of a sequence in memory at once.\n",
    "            This is advantageous when dealing with large datasets or when memory usage is a concern.\n",
    "\n",
    "        Support for Iteration Protocols:\n",
    "            Iterators can be used with various Python constructs that expect iterables, such as for loops, list comprehensions, generator expressions, and other iterable-based operations.\n",
    "            This makes iterators versatile and compatible with many built-in functions and language features.\n",
    "\n",
    "        Customizability:\n",
    "            Developers can create custom iterators by implementing the iterator protocol in their own classes.\n",
    "            This allows for flexible iteration over custom data structures or computation of elements using specific rules or algorithms.\n",
    "\n",
    "```"
   ]
  },
  {
   "cell_type": "markdown",
   "metadata": {},
   "source": [
    "## Genereator"
   ]
  },
  {
   "cell_type": "code",
   "execution_count": 91,
   "metadata": {},
   "outputs": [
    {
     "name": "stdout",
     "output_type": "stream",
     "text": [
      "0 0\n",
      "1 1\n",
      "4 8\n",
      "9 27\n",
      "16 64\n",
      "25 125\n",
      "36 216\n",
      "49 343\n",
      "64 512\n",
      "81 729\n"
     ]
    }
   ],
   "source": [
    "def square(limit):\n",
    "    x = 0\n",
    "    while x < limit:\n",
    "        yield x * x\n",
    "        yield x * x * x\n",
    "        x += 1\n",
    "        \n",
    "a = square(10)\n",
    "\n",
    "    # x * x , x * x * x\n",
    "print(next(a),next(a))\n",
    "print(next(a),next(a))\n",
    "print(next(a),next(a))\n",
    "print(next(a),next(a))\n",
    "print(next(a),next(a))\n",
    "print(next(a),next(a))\n",
    "print(next(a),next(a))\n",
    "print(next(a),next(a))\n",
    "print(next(a),next(a))\n",
    "print(next(a),next(a))\n"
   ]
  },
  {
   "cell_type": "markdown",
   "metadata": {},
   "source": [
    "```text\n",
    "\n",
    "    The yield keyword is used in Python to create generators, which are functions that can be used as iterators. \n",
    "    In the square function, the yield keyword is used to generate a sequence of values one at a time, rather than returning all values at once. \n",
    "    This allows the function to be used as an iterator, which can be useful for processing large datasets more efficiently.\n",
    "\n",
    "    In this particular case, the yield keyword is used to generate a sequence of squares of numbers up to a specified limit. \n",
    "    The function first initializes a variable x to 0 and enters a while loop that continues as long as x is less than the specified limit. \n",
    "    Within the while loop, the function calculates the square of x and yields the result. \n",
    "    It then calculates the square of x*x and yields the result. Finally, the function increments x by 1 and repeats the process.\n",
    "\n",
    "    By using the yield keyword, the square function can be used as an iterator in a for loop, like this:\n",
    "```\n",
    "```python\n",
    "    for x in square(10):\n",
    "        print(x)\n",
    "```\n",
    "```text\n",
    "    This will print out the squares of numbers up to 10, one at a time. \n",
    "    This is much more efficient than calculating all squares at once and then printing them out, because it allows the program to continue executing while the next square is being calculated.\n",
    "\n",
    "```"
   ]
  },
  {
   "cell_type": "code",
   "execution_count": 99,
   "metadata": {},
   "outputs": [
    {
     "name": "stdout",
     "output_type": "stream",
     "text": [
      "<generator object fibonacci_generator at 0x000001BC057AD220>\n"
     ]
    }
   ],
   "source": [
    "def fibonacci_generator():\n",
    "    a, b = 0, 1\n",
    "    while True:\n",
    "        yield a  # Yield the current Fibonacci number\n",
    "        a, b = b, a + b  # Update Fibonacci sequence\n",
    "\n",
    "# Create an instance of the generator\n",
    "a = fibonacci_generator()\n"
   ]
  },
  {
   "cell_type": "markdown",
   "metadata": {},
   "source": [
    "``` text\n",
    "\n",
    "    The Fibonacci sequence is a sequence of numbers where each number is the sum of the two previous numbers.\n",
    "    The first two numbers in the sequence are 0 and 1, and each subsequent number is the sum of the two previous numbers.\n",
    "    The first ten numbers in the sequence are 0, 1, 1, 2, 3, 5, 8, 13, 21, 34, 55, 89, and so on.\n",
    "    The Fibonacci sequence is a sequence of numbers where each number is the sum of the two previous numbers.\n",
    "    The first two numbers in the sequence are 0 and 1, and each subsequent number is the sum of the two previous numbers.\n",
    "\n",
    "    In Python, a generator is a special type of function that can be used to create an iterator. A function returns a value when it is called, but a generator returns a value lazily, only when it is needed. \n",
    "    This means that a generator can be used to iterate over a large dataset more efficiently than a traditional for loop.\n",
    "\n",
    "    In contrast, a function is a block of code that is executed when it is called, and it returns a value as a result. \n",
    "    A generator is similar to a function, but it uses the yield keyword instead of return to return values one at a time.    \n",
    "\n",
    "    The main difference between a function and a generator is that a function returns a single value, while a generator returns a series of values. \n",
    "    This allows a generator to be used as an iterator, which can be useful for processing large datasets more efficiently.\n",
    "```"
   ]
  },
  {
   "cell_type": "markdown",
   "metadata": {},
   "source": [
    "# **Functional Programming 2**"
   ]
  },
  {
   "cell_type": "code",
   "execution_count": 121,
   "metadata": {},
   "outputs": [
    {
     "name": "stdout",
     "output_type": "stream",
     "text": [
      "5 is small\n",
      "5 is small\n",
      "\n",
      "\n",
      "10\n",
      "9\n",
      "8\n",
      "7\n",
      "6\n",
      "5\n",
      "4\n",
      "3\n",
      "2\n",
      "1\n",
      "\n",
      "\n",
      "5\n",
      "4\n",
      "3\n",
      "2\n",
      "1\n"
     ]
    }
   ],
   "source": [
    "a = 10 \n",
    "b = 5 \n",
    "\n",
    "\n",
    "# We know this method\n",
    "\n",
    "if a < b:\n",
    "    print(a,'is small')\n",
    "elif a == b:\n",
    "    print(a,' and ',b,' both are equal')\n",
    "else:\n",
    "    print(b,'is small')\n",
    "\n",
    "# A shorter method\n",
    "small = a if a < b else b\n",
    "\n",
    "print(small,'is small')\n",
    "print('\\n')\n",
    "# both of the above have the same working and are same if terms of resoruces used and time taken\n",
    "\n",
    "\n",
    "# one more example\n",
    "\n",
    "while a >0:\n",
    "    print(a)\n",
    "    a = a - 1\n",
    "print('\\n')\n",
    "    \n",
    "# or you can also write like this\n",
    "\n",
    "while b>0: print(b); b -=1"
   ]
  },
  {
   "cell_type": "code",
   "execution_count": 117,
   "metadata": {},
   "outputs": [
    {
     "name": "stdout",
     "output_type": "stream",
     "text": [
      "['Orange', 'Mango', 'Pineapple', 'Watermelon']\n",
      "['Orange', 'Mango', 'Pineapple', 'Watermelon']\n"
     ]
    }
   ],
   "source": [
    "fruits = ['apple', 'orange', 'mango' , 'pineapple', 'guva', 'kiwi', 'watermelon']\n",
    "newlist = []\n",
    "\n",
    "# You know this \n",
    "for fruit in fruits:\n",
    "    for letter in fruit:\n",
    "        if letter == 'n':\n",
    "           newlist.append(fruit.capitalize())\n",
    "\n",
    "print(newlist) \n",
    "\n",
    "# You got to know this\n",
    "\n",
    "# newlist = [what_to_do; where_to_do; based_on_what_condition]\n",
    "newlist = [fruit.capitalize() for fruit in fruits if 'n' in fruit]\n",
    "print(newlist)\n",
    "\n",
    "\n",
    "# Functionally there is no difference between the two method"
   ]
  },
  {
   "cell_type": "markdown",
   "metadata": {},
   "source": [
    "# **Functional Programming-3**"
   ]
  },
  {
   "cell_type": "markdown",
   "metadata": {},
   "source": [
    "## Lambda Functions"
   ]
  },
  {
   "cell_type": "code",
   "execution_count": 125,
   "metadata": {},
   "outputs": [
    {
     "name": "stdout",
     "output_type": "stream",
     "text": [
      "4\n",
      "0\n",
      "4\n",
      "1.0\n",
      "\n",
      "\n",
      "Lambda magic\n",
      "4\n",
      "0\n",
      "4\n",
      "1.0\n"
     ]
    }
   ],
   "source": [
    "# this is the usual way how we have been things\n",
    "\n",
    "def add(x, y):\n",
    "    return x + y\n",
    "\n",
    "def sub(x , y):\n",
    "    return x - y\n",
    "\n",
    "def multiply(x, y):\n",
    "    return x * y\n",
    "\n",
    "def divide(x, y):\n",
    "    return x / y\n",
    "\n",
    "print(add(2,2))\n",
    "print(sub(2,2))\n",
    "print(multiply(2,2))\n",
    "print(divide(2,2))\n"
   ]
  },
  {
   "cell_type": "code",
   "execution_count": 126,
   "metadata": {},
   "outputs": [
    {
     "name": "stdout",
     "output_type": "stream",
     "text": [
      "\n",
      "\n",
      "Lambda magic\n",
      "4\n",
      "0\n",
      "4\n",
      "1.0\n",
      "<class 'function'> <class 'function'> <class 'function'> <class 'function'>\n"
     ]
    }
   ],
   "source": [
    "# Introducing lambda functions\n",
    "\n",
    "print(\"\\n\\nLambda magic\")\n",
    "add = lambda x, y: x + y\n",
    "sub = lambda x, y: x - y\n",
    "multiply = lambda x, y: x * y\n",
    "divide = lambda x, y: x / y\n",
    "\n",
    "print(add(2,2))\n",
    "print(sub(2,2))\n",
    "print(multiply(2,2))\n",
    "print(divide(2,2))\n",
    "\n",
    "print(type(add),type(sub),type(multiply),type(divide)) \n",
    "\n",
    "# this actually means that add sub multiply and divide are now functions"
   ]
  },
  {
   "cell_type": "markdown",
   "metadata": {},
   "source": [
    "```text\n",
    "\n",
    "Lambda Functions:\n",
    "    Lambda functions are anonymous functions defined using the lambda keyword. They are used for creating small, one-line functions without a formal def statement. In the code:\n",
    "\n",
    "    add, sub, multiply, and divide are lambda functions that perform addition, subtraction, multiplication, and division respectively.\n",
    "\n",
    "```"
   ]
  },
  {
   "cell_type": "markdown",
   "metadata": {},
   "source": [
    "## Enumerate"
   ]
  },
  {
   "cell_type": "code",
   "execution_count": 127,
   "metadata": {},
   "outputs": [
    {
     "name": "stdout",
     "output_type": "stream",
     "text": [
      "0 apple\n",
      "1 banana\n",
      "2 orange\n",
      "3 grape\n",
      "4 kiwi\n",
      "5 strawberry\n",
      "6 mango\n",
      "7 pineapple\n",
      "8 watermelon\n",
      "9 pear\n"
     ]
    }
   ],
   "source": [
    "fruits = [\"apple\", \"banana\", \"orange\", \"grape\", \"kiwi\", \"strawberry\", \"mango\", \"pineapple\", \"watermelon\", \"pear\"]\n",
    "\n",
    "for fruit in range(len(fruits)):\n",
    "    print(fruit,fruits[fruit])\n",
    "    \n",
    "    \n",
    "# Developer or I should say specially you can make mistakes while indexing the elements in the list(fruits), so there is another way to do this and relax.\n",
    "    "
   ]
  },
  {
   "cell_type": "code",
   "execution_count": 131,
   "metadata": {},
   "outputs": [
    {
     "name": "stdout",
     "output_type": "stream",
     "text": [
      "(0, 'apple')\n",
      "(1, 'banana')\n",
      "(2, 'orange')\n",
      "(3, 'grape')\n",
      "(4, 'kiwi')\n",
      "(5, 'strawberry')\n",
      "(6, 'mango')\n",
      "(7, 'pineapple')\n",
      "(8, 'watermelon')\n",
      "(9, 'pear')\n"
     ]
    }
   ],
   "source": [
    "fruits = [\"apple\", \"banana\", \"orange\", \"grape\", \"kiwi\", \"strawberry\", \"mango\", \"pineapple\", \"watermelon\", \"pear\"]\n",
    "\n",
    "for fruit in enumerate(fruits): # Just like a pro\n",
    "    print(fruit)\n",
    "    \n",
    "    \n",
    "# ? But there is no connection between the indices and the elements apart from them refering to the position of each element in the list(fruits)"
   ]
  },
  {
   "cell_type": "code",
   "execution_count": 140,
   "metadata": {},
   "outputs": [
    {
     "name": "stdout",
     "output_type": "stream",
     "text": [
      "[5, 6, 6, 5, 4, 10, 5, 9, 10, 4]\n",
      "<zip object at 0x000001BC057B5080>\n",
      "[('apple', 5), ('banana', 6), ('orange', 6), ('grape', 5), ('kiwi', 4), ('strawberry', 10), ('mango', 5), ('pineapple', 9), ('watermelon', 10), ('pear', 4)]\n",
      "\n",
      " or \n",
      "\n",
      "{'apple': 5, 'banana': 6, 'orange': 6, 'grape': 5, 'kiwi': 4, 'strawberry': 10, 'mango': 5, 'pineapple': 9, 'watermelon': 10, 'pear': 4}\n"
     ]
    }
   ],
   "source": [
    "fruits = [\"apple\", \"banana\", \"orange\", \"grape\", \"kiwi\", \"strawberry\", \"mango\", \"pineapple\", \"watermelon\", \"pear\"]\n",
    "size_list = [len(fruit) for fruit in fruits]\n",
    "print(size_list)\n",
    "print(zip(fruits,size_list)) # This is a zip obejct\n",
    "print(list(zip(fruits,size_list)))  # Convert zip object to list\n",
    "print('\\n or \\n')\n",
    "print(dict(zip(fruits,size_list)))"
   ]
  },
  {
   "cell_type": "markdown",
   "metadata": {},
   "source": [
    "## map"
   ]
  },
  {
   "cell_type": "code",
   "execution_count": 144,
   "metadata": {},
   "outputs": [
    {
     "name": "stdout",
     "output_type": "stream",
     "text": [
      "5\n",
      "10\n",
      "15\n",
      "20\n",
      "25\n",
      "30\n",
      "35\n",
      "40\n",
      "45\n"
     ]
    }
   ],
   "source": [
    "# This is what you have been doing so far\n",
    "\n",
    "a = [10, 20, 30, 40, 50, 60, 70, 80, 90]\n",
    "b = [5 ,10 ,15, 20, 25, 30, 35, 40, 45]\n",
    "\n",
    "for numbers in range(len(a)) and range(len(b)):\n",
    "    print(a[numbers]-b[numbers])"
   ]
  },
  {
   "cell_type": "code",
   "execution_count": 145,
   "metadata": {},
   "outputs": [
    {
     "name": "stdout",
     "output_type": "stream",
     "text": [
      "<map object at 0x000001BC053C6D10>\n",
      "[5, 10, 15, 20, 25, 30, 35, 40, 45]\n"
     ]
    }
   ],
   "source": [
    "# Now let's go pro \n",
    "\n",
    "a = [10, 20, 30, 40, 50, 60, 70, 80, 90]\n",
    "b = [5 ,10 ,15, 20, 25, 30, 35, 40, 45]\n",
    "\n",
    "def subtract(x , y):\n",
    "    return x - y\n",
    "c = map(sub,a,b)  # map(function1, iterable1 ,optional : iterable2)\n",
    "print(c)  # A map type or a map object\n",
    "\n",
    "print(list(c))  # Convert map object to list and print"
   ]
  },
  {
   "cell_type": "code",
   "execution_count": 159,
   "metadata": {},
   "outputs": [
    {
     "name": "stdout",
     "output_type": "stream",
     "text": [
      "[11, 21, 31, 41, 51, 61, 71, 81, 91]\n",
      "[10, 20, 30, 40, 50, 60, 70, 80, 90]\n",
      "[1, 1, 1, 1, 1, 1, 1, 1, 1]\n"
     ]
    }
   ],
   "source": [
    "a = [10, 20, 30, 40, 50, 60, 70, 80, 90]\n",
    "b = [5 ,10 ,15, 20, 25, 30, 35, 40, 45]\n",
    "\n",
    "def increase(x):\n",
    "    return x + 1\n",
    "\n",
    "c = map(increase,a)\n",
    "print(list(c))      # Convert map object to list and print\n",
    "\n",
    "def multiply(y):\n",
    "    return y *2\n",
    "\n",
    "d = map(multiply,b)\n",
    "print(list(d))      # Convert map object to list and print\n",
    "\n",
    "def subtract(x,y):\n",
    "    return x - y\n",
    "\n",
    "c = list(map(increase,a)) # Convert map object to list\n",
    "d = list(map(multiply,b)) # convert map object to list\n",
    "\n",
    "e = map(subtract, c , d)  \n",
    "print(list(e))"
   ]
  },
  {
   "cell_type": "markdown",
   "metadata": {},
   "source": [
    "## Filter"
   ]
  },
  {
   "cell_type": "code",
   "execution_count": 164,
   "metadata": {},
   "outputs": [
    {
     "data": {
      "text/plain": [
       "[5.0, 6.855654600401044, 8.366600265340756, 11.045361017187261]"
      ]
     },
     "execution_count": 164,
     "metadata": {},
     "output_type": "execute_result"
    }
   ],
   "source": [
    "# the usual way\n",
    "\n",
    "import math\n",
    "a = [25, -16, 47, 70, -87, 122, -44]\n",
    "\n",
    "def square_root(a):\n",
    "    square_root_list = [math.sqrt(number) for number in a if number > 0]\n",
    "    return square_root_list    \n",
    "square_root(a)\n",
    "\n",
    "\n",
    "\n"
   ]
  },
  {
   "cell_type": "code",
   "execution_count": 166,
   "metadata": {},
   "outputs": [
    {
     "name": "stdout",
     "output_type": "stream",
     "text": [
      "[5.0, 6.855654600401044, 8.366600265340756, 11.045361017187261]\n"
     ]
    }
   ],
   "source": [
    "# The filter way\n",
    "\n",
    "import math\n",
    "a = [25, -16, 47, 70, -87, 122, -44]\n",
    "\n",
    "def square_root(n):\n",
    "    return math.sqrt(n)\n",
    "    \n",
    "def is_positive(n):\n",
    "    if n > 0:\n",
    "        return n\n",
    "    \n",
    "c = map(square_root, filter(is_positive, a))\n",
    "print(list(c))"
   ]
  }
 ],
 "metadata": {
  "kernelspec": {
   "display_name": "Python 3",
   "language": "python",
   "name": "python3"
  },
  "language_info": {
   "codemirror_mode": {
    "name": "ipython",
    "version": 3
   },
   "file_extension": ".py",
   "mimetype": "text/x-python",
   "name": "python",
   "nbconvert_exporter": "python",
   "pygments_lexer": "ipython3",
   "version": "3.12.2"
  }
 },
 "nbformat": 4,
 "nbformat_minor": 2
}
