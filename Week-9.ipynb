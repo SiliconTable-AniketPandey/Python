{
 "cells": [
  {
   "cell_type": "markdown",
   "metadata": {},
   "source": [
    "# <b> Week 9 </b>"
   ]
  },
  {
   "cell_type": "markdown",
   "metadata": {},
   "source": [
    "## <b>File Handling</b>"
   ]
  },
  {
   "cell_type": "code",
   "execution_count": 3,
   "metadata": {},
   "outputs": [],
   "source": [
    "# Creating and writing \n",
    "f = open(\"sample.txt\",'w')\n",
    "f.write(\"Fisrt line \\n\") # If you don't put \\n it will push the string in same line\n",
    "f.write(\"Second Line\")\n",
    "f.close() # Always close the file "
   ]
  },
  {
   "cell_type": "code",
   "execution_count": 5,
   "metadata": {},
   "outputs": [
    {
     "name": "stdout",
     "output_type": "stream",
     "text": [
      "Fisrt line \n",
      "Second Line\n"
     ]
    }
   ],
   "source": [
    "# Reading \n",
    "\n",
    "f = open(\"sample.txt\",\"r\")\n",
    "s = f.read()\n",
    "print(s)\n",
    "f.close()\n",
    "# print(s)  This will not work as the file is already closed and is not in the memory anymore"
   ]
  }
 ],
 "metadata": {
  "kernelspec": {
   "display_name": "Python 3",
   "language": "python",
   "name": "python3"
  },
  "language_info": {
   "codemirror_mode": {
    "name": "ipython",
    "version": 3
   },
   "file_extension": ".py",
   "mimetype": "text/x-python",
   "name": "python",
   "nbconvert_exporter": "python",
   "pygments_lexer": "ipython3",
   "version": "3.12.2"
  }
 },
 "nbformat": 4,
 "nbformat_minor": 2
}
