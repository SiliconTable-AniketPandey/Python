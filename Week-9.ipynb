{
 "cells": [
  {
   "cell_type": "markdown",
   "metadata": {},
   "source": [
    "# <b> Week 9 </b>\n"
   ]
  },
  {
   "cell_type": "markdown",
   "metadata": {},
   "source": [
    "## <b>File Handling</b>\n"
   ]
  },
  {
   "cell_type": "code",
   "execution_count": 3,
   "metadata": {},
   "outputs": [],
   "source": [
    "# Creating and writing\n",
    "f = open(\"sample.txt\", \"w\")\n",
    "f.write(\"Fisrt line \\n\")  # If you don't put \\n it will push the string in same line\n",
    "f.write(\"Second Line\")\n",
    "f.close()  # Always close the file"
   ]
  },
  {
   "cell_type": "code",
   "execution_count": 5,
   "metadata": {},
   "outputs": [
    {
     "name": "stdout",
     "output_type": "stream",
     "text": [
      "Fisrt line \n",
      "Second Line\n"
     ]
    }
   ],
   "source": [
    "# Reading\n",
    "\n",
    "f = open(\"sample.txt\", \"r\")\n",
    "s = f.read()\n",
    "print(s)\n",
    "f.close()\n",
    "# print(s)  This will not work as the file is already closed and is not in the memory anymore"
   ]
  },
  {
   "cell_type": "markdown",
   "metadata": {},
   "source": [
    "### Big Files\n"
   ]
  },
  {
   "cell_type": "code",
   "execution_count": 12,
   "metadata": {},
   "outputs": [],
   "source": [
    "# let's generate some numbers and store them in a file\n",
    "import random\n",
    "\n",
    "f = open(\"Numbers.txt\", \"w\")\n",
    "for i in range(500, 10000000):\n",
    "    i = random.randint(1000000000, 9999999999)\n",
    "    i = str(i)\n",
    "    f.write(i)\n",
    "    f.write(\"\\n\")\n",
    "\n",
    "f.close()"
   ]
  },
  {
   "cell_type": "code",
   "execution_count": 7,
   "metadata": {},
   "outputs": [
    {
     "data": {
      "text/plain": [
       "'Number found !!'"
      ]
     },
     "execution_count": 7,
     "metadata": {},
     "output_type": "execute_result"
    }
   ],
   "source": [
    "f = open(\"Numbers.txt\", \"r\")\n",
    "\n",
    "\n",
    "def converter():\n",
    "    s = \"0\"\n",
    "    while s != \"\":\n",
    "        s = f.readline()\n",
    "        if s != \"\":  # to avoid EOF error\n",
    "            n = int(s)\n",
    "            if n == 5906385225:\n",
    "                return \"Number found !!\"\n",
    "    return \"Number not found\"\n",
    "\n",
    "\n",
    "def reader():\n",
    "    f.readline()  # Reads only one lin at a time\n",
    "    return (\n",
    "        f.readlines()\n",
    "    )  # will read all the lines in the file, Type = list with numbers as string\n",
    "\n",
    "    # after the control reaches the last line it will just print ''\n",
    "\n",
    "\n",
    "# converter()"
   ]
  },
  {
   "cell_type": "markdown",
   "metadata": {},
   "source": [
    "### Really big files\n"
   ]
  },
  {
   "cell_type": "code",
   "execution_count": null,
   "metadata": {},
   "outputs": [],
   "source": [
    "# let's generate some numbers and store them in a file\n",
    "def really_large():\n",
    "    import random\n",
    "\n",
    "    f = open(\"ReallyLargeNumbers.txt\", \"w\")\n",
    "    for i in range(1, 10000000000):\n",
    "        i = random.randint(1000000000, 9999999999)\n",
    "        i = str(i)\n",
    "        f.write(i)\n",
    "        f.write(\"\\n\")\n",
    "\n",
    "\n",
    "# really_large()\n",
    "\n",
    "# File generated here is over 8 Gb, it could have been more but I stopped the code from running any further"
   ]
  },
  {
   "cell_type": "code",
   "execution_count": 21,
   "metadata": {},
   "outputs": [],
   "source": [
    "# Processing SherlockHomes\n",
    "import string\n",
    "\n",
    "f = open(\"SherlockHolmes.txt\", \"r+\")\n",
    "g = open(\"SherlockHolmes_Modified.txt\", \"w+\")\n",
    "s = \"0\"\n",
    "while s != \"\":\n",
    "    s = f.readline()\n",
    "    s = s.lower()\n",
    "    cleaned = (\n",
    "        string.punctuation\n",
    "        + \"—\"\n",
    "        + \"â\"\n",
    "        + \"€\"\n",
    "        + \"”\"\n",
    "        + \"\\n\"\n",
    "        + \"1\"\n",
    "        + \"2\"\n",
    "        + \"3\"\n",
    "        + \"4\"\n",
    "        + \"5\"\n",
    "        + \"6\"\n",
    "        + \"7\"\n",
    "        + \"8\"\n",
    "    )\n",
    "    cleaned_sentence = \"\".join(\n",
    "        char if char != \" \" and char not in cleaned else \"\" for char in s\n",
    "    )\n",
    "    g.write(cleaned_sentence)\n",
    "\n",
    "f.close()\n",
    "g.close()"
   ]
  },
  {
   "cell_type": "markdown",
   "metadata": {},
   "source": [
    "### Caesar Cipher\n"
   ]
  },
  {
   "cell_type": "code",
   "execution_count": 22,
   "metadata": {},
   "outputs": [],
   "source": [
    "\"\"\" In this program I am trying to kind of do some cryptography ( basic one ofc ) \n",
    "    a will be shifted to 3 places that means a will become d \n",
    "    b will become e\n",
    "    ........\n",
    "    ........\n",
    "    w will become z \n",
    "    x will become a \n",
    "    y will become b\n",
    "    z will become c\"\"\"\n",
    "\n",
    "import string\n",
    "\n",
    "\n",
    "def create_ceaser_dictonary():\n",
    "    l = string.ascii_lowercase\n",
    "    l = list(l)\n",
    "    d = {}\n",
    "    for i in range(len(l)):\n",
    "        d[l[i]] = l[(i + 3) % 26]\n",
    "    return d\n",
    "\n",
    "\n",
    "with open(\"SherlockHolmes_Modified.txt\", \"r\") as f, open(\n",
    "    \"SherlockHolmes_Encrypted.txt\", \"w\"\n",
    ") as g:\n",
    "    # If you use with statements, python will automatically close the file after all the operations have been performed you do not need to close the file\n",
    "    d = create_ceaser_dictonary()\n",
    "    c = f.read(1)\n",
    "    while c != \"\":\n",
    "        g.write(d[c])\n",
    "        c = f.read(1)"
   ]
  },
  {
   "cell_type": "code",
   "execution_count": 1,
   "metadata": {},
   "outputs": [],
   "source": [
    "# This program will decrypt the Caesar Cipher\n",
    "import string\n",
    "\n",
    "\n",
    "def create_ceaser_dictonary():\n",
    "    l = string.ascii_lowercase\n",
    "    l = list(l)\n",
    "    d = {}\n",
    "    for i in range(len(l)):\n",
    "        d[l[i]] = l[(i - 3) % 26]  # very easy\n",
    "    return d\n",
    "\n",
    "\n",
    "with open(\"SherlockHolmes_Encrypted.txt\", \"r\") as f, open(\n",
    "    \"SherlockHolmes_decrypted.txt\", \"w\"\n",
    ") as g:\n",
    "    # If you use with statements, python will automatically close the file after all the operations have been performed you do not need to close the file\n",
    "    d = create_ceaser_dictonary()\n",
    "    c = f.read(1)\n",
    "    while c != \"\":\n",
    "        g.write(d[c])\n",
    "        c = f.read(1)\n",
    "\n",
    "# Yes all the punctuation and white spaces are lost but the movie was to show how cryptography works (kind of ofc) also its not very hard to read the decrypted file :)"
   ]
  },
  {
   "cell_type": "markdown",
   "metadata": {},
   "source": [
    "### Seek()\n"
   ]
  },
  {
   "cell_type": "code",
   "execution_count": 5,
   "metadata": {},
   "outputs": [],
   "source": [
    "f = open(\"Somenumbers.txt\", \"w\")\n",
    "for i in range(10):\n",
    "    i = str(i)\n",
    "    f.write(i)\n",
    "\n",
    "f.close()"
   ]
  },
  {
   "cell_type": "code",
   "execution_count": 7,
   "metadata": {},
   "outputs": [
    {
     "name": "stdout",
     "output_type": "stream",
     "text": [
      "6\n",
      "67\n"
     ]
    }
   ],
   "source": [
    "with open(\"Somenumbers.txt\", \"r\") as f:\n",
    "    s = f.seek(\n",
    "        6\n",
    "    )  # the cursor jumps to the nth position provided as the parameter in seek(n)\n",
    "    p = f.read(2)  # now it will read from the point where the cursor is at\n",
    "    print(s)  # 6th index\n",
    "    print(p)  # prints 2 characters from 6th index that is 6 and 7"
   ]
  },
  {
   "cell_type": "markdown",
   "metadata": {},
   "source": [
    "### Genetic Sequences\n"
   ]
  },
  {
   "cell_type": "code",
   "execution_count": 31,
   "metadata": {},
   "outputs": [
    {
     "data": {
      "text/plain": [
       "'Blood Pressure and Diabetes'"
      ]
     },
     "execution_count": 31,
     "metadata": {},
     "output_type": "execute_result"
    }
   ],
   "source": [
    "def Disease():\n",
    "    with open(\"HumanDNA.txt\", \"r\") as f:\n",
    "        diab = \"GTATGAC\"  # If this is present in your DNA, you have potiential Diabetes\n",
    "        BloodPressure = \"TAGAAACCTGGATA\"\n",
    "        if diab and BloodPressure in f.read():\n",
    "            return \"Blood Pressure and Diabetes\"\n",
    "        elif diab in f.read():\n",
    "            return \"Diabetes\"\n",
    "        elif BloodPressure in f.read():\n",
    "            return \"Blood Pressure\"\n",
    "    return \"Nothing\"\n",
    "\n",
    "\n",
    "Disease()"
   ]
  },
  {
   "cell_type": "markdown",
   "metadata": {},
   "source": [
    "### Pandas\n"
   ]
  },
  {
   "cell_type": "code",
   "execution_count": 27,
   "metadata": {},
   "outputs": [
    {
     "name": "stdout",
     "output_type": "stream",
     "text": [
      "Maximum marks in math: 92\n"
     ]
    }
   ],
   "source": [
    "with open(\"Students_dataset.csv\", \"r\") as f:\n",
    "    # Skip the first line (header)\n",
    "    f.readline()\n",
    "\n",
    "    max_math_score = 0\n",
    "\n",
    "    # Iterate through each line in the file\n",
    "    for line in f:\n",
    "        # Split the line into fields\n",
    "        fields = line.split(\",\")\n",
    "\n",
    "        # Extract the math score (assuming it's the 5th field)\n",
    "        math_score = int(fields[5])\n",
    "\n",
    "        # Update max_math_score if the current score is greater\n",
    "        if math_score > max_math_score:\n",
    "            max_math_score = math_score\n",
    "\n",
    "    print(\"Maximum marks in math:\", max_math_score)"
   ]
  },
  {
   "cell_type": "markdown",
   "metadata": {},
   "source": [
    "But you see all of that took a some good lines to code, but as engineers we are supposed to be lazy and intelligent. Its a kind of tradition or an obligation.\n"
   ]
  },
  {
   "cell_type": "code",
   "execution_count": 36,
   "metadata": {},
   "outputs": [
    {
     "name": "stdout",
     "output_type": "stream",
     "text": [
      "    Roll Number             Name  Gender Date of Birth  Phone Number  Math  \\\n",
      "0             1      Arjun Patel    Male    1999-05-15    9876543210    85   \n",
      "1             2      Neha Sharma  Female    2000-02-20    8765432109    90   \n",
      "2             3      Rahul Gupta    Male    1998-11-10    7654321098    80   \n",
      "3             4      Priya Singh  Female    1999-08-25    6543210987    88   \n",
      "4             5       Amit Kumar    Male    2000-04-30    5432109876    92   \n",
      "5             6      Sneha Verma  Female    1999-12-05    4321098765    85   \n",
      "6             7     Vikram Reddy    Male    1998-07-20    3210987654    78   \n",
      "7             8     Pooja Mishra  Female    2000-01-15    2109876543    82   \n",
      "8             9       Ravi Patel    Male    1999-10-10    1098765432    90   \n",
      "9            10     Anjali Mehta  Female    1998-09-05    9876543210    85   \n",
      "10           11      Aarav Joshi    Male    1999-06-25    8765432109    88   \n",
      "11           12       Kavita Das  Female    2000-03-20    7654321098    92   \n",
      "12           13      Rohan Singh    Male    1998-12-15    6543210987    85   \n",
      "13           14    Deepika Gupta  Female    1999-07-30    5432109876    90   \n",
      "14           15      Aditya Jain    Male    2000-05-10    4321098765    82   \n",
      "15           16   Riya Choudhury  Female    1999-11-25    3210987654    88   \n",
      "16           17     Rajesh Patel    Male    1998-08-20    2109876543    90   \n",
      "17           18      Jyoti Yadav  Female    2000-02-15    1098765432    85   \n",
      "18           19      Kiran Kumar    Male    1999-09-10    9876543210    78   \n",
      "19           20    Sunita Sharma  Female    1998-06-05    8765432109    92   \n",
      "20           21     Rakesh Singh    Male    2000-01-30    7654321098    85   \n",
      "21           22     Sarita Patel  Female    1999-07-15    6543210987    80   \n",
      "22           23      Vivek Gupta    Male    1998-12-20    5432109876    88   \n",
      "23           24     Sakshi Verma  Female    1999-05-25    4321098765    90   \n",
      "24           25      Alok Tiwari    Male    2000-03-10    3210987654    85   \n",
      "25           26      Nisha Singh  Female    1999-10-05    2109876543    92   \n",
      "26           27    Gaurav Mishra    Male    1998-08-30    1098765432    78   \n",
      "27           28      Anita Reddy  Female    2000-02-15    9876543210    82   \n",
      "28           29     Manish Patel    Male    1999-09-10    8765432109    90   \n",
      "29           30     Sonali Gupta  Female    1998-06-05    7654321098    85   \n",
      "30           31     Sanjay Kumar    Male    1999-12-20    6543210987    88   \n",
      "31           32  Priyanka Sharma  Female    2000-04-30    5432109876    92   \n",
      "32           33      Ankit Gupta    Male    1999-12-05    4321098765    85   \n",
      "33           34     Shreya Singh  Female    1998-07-20    3210987654    78   \n",
      "34           35     Rahul Sharma    Male    2000-01-15    2109876543    82   \n",
      "35           36     Anjali Reddy  Female    1999-10-10    1098765432    90   \n",
      "36           37      Vivek Kumar    Male    1998-09-05    9876543210    85   \n",
      "37           38      Divya Patel  Female    1999-06-25    8765432109    88   \n",
      "38           39      Manoj Kumar    Male    2000-03-20    7654321098    92   \n",
      "39           40      Swati Gupta  Female    1998-12-15    6543210987    85   \n",
      "40           41     Ashish Singh    Male    1999-07-30    5432109876    90   \n",
      "41           42   Priyanka Patel  Female    2000-05-10    4321098765    82   \n",
      "42           43      Rahul Verma    Male    1999-11-25    3210987654    88   \n",
      "43           44     Komal Sharma  Female    1998-08-20    2109876543    90   \n",
      "44           45   Abhishek Singh    Male    2000-02-15    1098765432    85   \n",
      "45           46     Sneha Kumari  Female    1999-09-10    9876543210    78   \n",
      "\n",
      "    Physics  Chemistry  English  Computer  Biology  \n",
      "0        78         92       88      90.0     85.0  \n",
      "1        85         88       92      87.0     89.0  \n",
      "2        75         85       78      82.0     80.0  \n",
      "3        92         90       85      89.0     91.0  \n",
      "4        88         84       80      91.0     87.0  \n",
      "5        90         86       88      90.0     92.0  \n",
      "6        82         80       75      85.0     83.0  \n",
      "7        80         75       84      86.0     80.0  \n",
      "8        85         89       91      88.0     87.0  \n",
      "9        89         91       86      90.0     88.0  \n",
      "10       87         85       83      80.0     81.0  \n",
      "11       90         88       89      85.0     84.0  \n",
      "12       82         86       80      88.0     84.0  \n",
      "13       88         85       87      92.0     89.0  \n",
      "14       80         78       85      86.0     83.0  \n",
      "15       85         90       92      87.0     88.0  \n",
      "16       92         87       85      84.0     82.0  \n",
      "17       87         84       89      90.0     86.0  \n",
      "18       82         80       75      83.0     80.0  \n",
      "19       88         90       86      89.0     91.0  \n",
      "20       90         88       89      91.0     87.0  \n",
      "21       75         85       78      82.0     80.0  \n",
      "22       92         90       85      87.0     89.0  \n",
      "23       85         89       91      88.0     87.0  \n",
      "24       89         91       86      90.0     88.0  \n",
      "25       90         86       88      90.0     92.0  \n",
      "26       82         80       75      85.0     83.0  \n",
      "27       80         75       84      86.0     80.0  \n",
      "28       85         89       91      88.0     87.0  \n",
      "29       89         91       86      90.0     88.0  \n",
      "30       87         85       83      80.0     81.0  \n",
      "31       88         84       80      91.0     87.0  \n",
      "32       90         86       88      90.0     92.0  \n",
      "33       82         80       75      85.0     83.0  \n",
      "34       80         75       84      86.0     80.0  \n",
      "35       85         89       91      88.0     87.0  \n",
      "36       89         91       86      90.0     88.0  \n",
      "37       87         85       83      80.0     81.0  \n",
      "38       90         88       89      85.0     84.0  \n",
      "39       82         86       80      88.0     84.0  \n",
      "40       88         85       87      92.0     89.0  \n",
      "41       80         78       85      86.0     83.0  \n",
      "42       85         90       92      87.0     88.0  \n",
      "43       92         87       85      84.0     82.0  \n",
      "44       87         84       89      90.0     86.0  \n",
      "45       82         80       75       NaN      NaN  \n",
      "Maximum marks in math : 92\n",
      "(46, 11)\n"
     ]
    }
   ],
   "source": [
    "import pandas as pd  # pip install pandas in terminal to install pandas\n",
    "\n",
    "data = pd.read_csv(\"Students_dataset.csv\")\n",
    "print(\n",
    "    data\n",
    ")  # Pandas will always add index number to each row on its own, it is very helpful\n",
    "print(\"Maximum marks in math :\", data[\"Math\"].max())\n",
    "\n",
    "# LOL 3 lines only, hence Pandas are lazy but intelligent"
   ]
  },
  {
   "cell_type": "code",
   "execution_count": 38,
   "metadata": {},
   "outputs": [
    {
     "name": "stdout",
     "output_type": "stream",
     "text": [
      "(46, 11)\n",
      "Roll Number      46\n",
      "Name             46\n",
      "Gender           46\n",
      "Date of Birth    46\n",
      "Phone Number     46\n",
      "Math             46\n",
      "Physics          46\n",
      "Chemistry        46\n",
      "English          46\n",
      "Computer         45\n",
      "Biology          45\n",
      "dtype: int64\n"
     ]
    }
   ],
   "source": [
    "# how to count number of rows and columns ?\n",
    "print(data.shape)  # (rows,Columns)\n",
    "print(data.count())  # number of values in each column"
   ]
  },
  {
   "cell_type": "code",
   "execution_count": 42,
   "metadata": {},
   "outputs": [
    {
     "name": "stdout",
     "output_type": "stream",
     "text": [
      "Minum marks in math :  78\n",
      "Average marks in math :  86.04347826086956\n",
      "Sum of all marks in math :  3958\n"
     ]
    }
   ],
   "source": [
    "# who got the minimum marks in maths?\n",
    "print(\"Minum marks in math : \", data[\"Math\"].min())\n",
    "\n",
    "# Average marks in math\n",
    "print(\"Average marks in math : \", data[\"Math\"].mean())\n",
    "\n",
    "# Total of marks abtained by students in math ?\n",
    "print(\"Sum of all marks in math : \", data[\"Math\"].sum())"
   ]
  },
  {
   "cell_type": "code",
   "execution_count": 44,
   "metadata": {},
   "outputs": [
    {
     "name": "stdout",
     "output_type": "stream",
     "text": [
      "45    78\n",
      "26    78\n",
      "33    78\n",
      "6     78\n",
      "18    78\n",
      "2     80\n",
      "21    80\n",
      "34    82\n",
      "7     82\n",
      "27    82\n",
      "41    82\n",
      "14    82\n",
      "39    85\n",
      "20    85\n",
      "29    85\n",
      "24    85\n",
      "44    85\n",
      "36    85\n",
      "32    85\n",
      "0     85\n",
      "17    85\n",
      "5     85\n",
      "12    85\n",
      "9     85\n",
      "22    88\n",
      "15    88\n",
      "42    88\n",
      "10    88\n",
      "30    88\n",
      "3     88\n",
      "37    88\n",
      "43    90\n",
      "1     90\n",
      "40    90\n",
      "35    90\n",
      "13    90\n",
      "8     90\n",
      "28    90\n",
      "23    90\n",
      "16    90\n",
      "4     92\n",
      "38    92\n",
      "19    92\n",
      "31    92\n",
      "11    92\n",
      "25    92\n",
      "Name: Math, dtype: int64\n"
     ]
    }
   ],
   "source": [
    "# can we sort the marks obtained in math?\n",
    "print(\n",
    "    data[\"Math\"].sort_values()\n",
    ")  # It will preserve the index number that it adds on its own"
   ]
  }
 ],
 "metadata": {
  "kernelspec": {
   "display_name": "Python 3",
   "language": "python",
   "name": "python3"
  },
  "language_info": {
   "codemirror_mode": {
    "name": "ipython",
    "version": 3
   },
   "file_extension": ".py",
   "mimetype": "text/x-python",
   "name": "python",
   "nbconvert_exporter": "python",
   "pygments_lexer": "ipython3",
   "version": "3.12.2"
  }
 },
 "nbformat": 4,
 "nbformat_minor": 2
}
