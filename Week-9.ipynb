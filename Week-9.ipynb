{
 "cells": [
  {
   "cell_type": "markdown",
   "metadata": {},
   "source": [
    "# <b> Week 9 </b>\n"
   ]
  },
  {
   "cell_type": "markdown",
   "metadata": {},
   "source": [
    "## <b>File Handling</b>\n"
   ]
  },
  {
   "cell_type": "code",
   "execution_count": 3,
   "metadata": {},
   "outputs": [],
   "source": [
    "# Creating and writing\n",
    "f = open(\"sample.txt\", \"w\")\n",
    "f.write(\"Fisrt line \\n\")  # If you don't put \\n it will push the string in same line\n",
    "f.write(\"Second Line\")\n",
    "f.close()  # Always close the file"
   ]
  },
  {
   "cell_type": "code",
   "execution_count": 5,
   "metadata": {},
   "outputs": [
    {
     "name": "stdout",
     "output_type": "stream",
     "text": [
      "Fisrt line \n",
      "Second Line\n"
     ]
    }
   ],
   "source": [
    "# Reading\n",
    "\n",
    "f = open(\"sample.txt\", \"r\")\n",
    "s = f.read()\n",
    "print(s)\n",
    "f.close()\n",
    "# print(s)  This will not work as the file is already closed and is not in the memory anymore"
   ]
  },
  {
   "cell_type": "markdown",
   "metadata": {},
   "source": [
    "### Big Files\n"
   ]
  },
  {
   "cell_type": "code",
   "execution_count": 12,
   "metadata": {},
   "outputs": [],
   "source": [
    "# let's generate some numbers and store them in a file\n",
    "import random\n",
    "\n",
    "f = open(\"Numbers.txt\", \"w\")\n",
    "for i in range(500, 10000000):\n",
    "    i = random.randint(1000000000, 9999999999)\n",
    "    i = str(i)\n",
    "    f.write(i)\n",
    "    f.write(\"\\n\")\n",
    "\n",
    "f.close()"
   ]
  },
  {
   "cell_type": "code",
   "execution_count": 7,
   "metadata": {},
   "outputs": [
    {
     "data": {
      "text/plain": [
       "'Number found !!'"
      ]
     },
     "execution_count": 7,
     "metadata": {},
     "output_type": "execute_result"
    }
   ],
   "source": [
    "f = open(\"Numbers.txt\", \"r\")\n",
    "\n",
    "\n",
    "def converter():\n",
    "    s = \"0\"\n",
    "    while s != \"\":\n",
    "        s = f.readline()\n",
    "        if s != \"\":  # to avoid EOF error\n",
    "            n = int(s)\n",
    "            if n == 5906385225:\n",
    "                return \"Number found !!\"\n",
    "    return \"Number not found\"\n",
    "\n",
    "\n",
    "def reader():\n",
    "    f.readline()  # Reads only one lin at a time\n",
    "    return (\n",
    "        f.readlines()\n",
    "    )  # will read all the lines in the file, Type = list with numbers as string\n",
    "\n",
    "    # after the control reaches the last line it will just print ''\n",
    "\n",
    "\n",
    "# converter()"
   ]
  },
  {
   "cell_type": "markdown",
   "metadata": {},
   "source": [
    "### Really big files\n"
   ]
  },
  {
   "cell_type": "code",
   "execution_count": null,
   "metadata": {},
   "outputs": [],
   "source": [
    "# let's generate some numbers and store them in a file\n",
    "def really_large():\n",
    "    import random\n",
    "\n",
    "    f = open(\"ReallyLargeNumbers.txt\", \"w\")\n",
    "    for i in range(1, 10000000000):\n",
    "        i = random.randint(1000000000, 9999999999)\n",
    "        i = str(i)\n",
    "        f.write(i)\n",
    "        f.write(\"\\n\")\n",
    "\n",
    "\n",
    "# really_large()\n",
    "\n",
    "# File generated here is over 8 Gb, it could have been more but I stopped the code from running any further"
   ]
  },
  {
   "cell_type": "code",
   "execution_count": 21,
   "metadata": {},
   "outputs": [],
   "source": [
    "# Processing SherlockHomes\n",
    "import string\n",
    "\n",
    "f = open(\"SherlockHolmes.txt\", \"r+\")\n",
    "g = open(\"SherlockHolmes_Modified.txt\", \"w+\")\n",
    "s = \"0\"\n",
    "while s != \"\":\n",
    "    s = f.readline()\n",
    "    s = s.lower()\n",
    "    cleaned = string.punctuation + '—' + 'â' +'€' + '”' +'\\n' +'1' + \"2\" + \"3\" + \"4\" + \"5\" + \"6\" + \"7\" + \"8\"\n",
    "    cleaned_sentence = \"\".join(\n",
    "        char if char != \" \" and char not in cleaned else \"\" for char in s\n",
    "    )\n",
    "    g.write(cleaned_sentence)\n",
    "\n",
    "f.close()\n",
    "g.close()"
   ]
  },
  {
   "cell_type": "markdown",
   "metadata": {},
   "source": [
    "### Caesar Cipher\n"
   ]
  },
  {
   "cell_type": "code",
   "execution_count": 22,
   "metadata": {},
   "outputs": [],
   "source": [
    "\"\"\" In this program I am trying to kind of do some cryptography ( basic one ofc ) \n",
    "    a will be shifted to 3 places that means a will become d \n",
    "    b will become e\n",
    "    ........\n",
    "    ........\n",
    "    w will become z \n",
    "    x will become a \n",
    "    y will become b\n",
    "    z will become c\"\"\"\n",
    "\n",
    "import string\n",
    "\n",
    "\n",
    "def create_ceaser_dictonary():\n",
    "    l = string.ascii_lowercase\n",
    "    l = list(l)\n",
    "    d = {}\n",
    "    for i in range(len(l)):\n",
    "        d[l[i]] = l[(i + 3) % 26]\n",
    "    return d\n",
    "\n",
    "with open(\"SherlockHolmes_Modified.txt\",'r') as f , open(\"SherlockHolmes_Encrypted.txt\", 'w') as g : \n",
    "    # If you use with statements, python will automatically close the file after all the operations have been performed you do not need to close the file\n",
    "    d = create_ceaser_dictonary()\n",
    "    c = f.read(1)\n",
    "    while(c != ''):\n",
    "        g.write(d[c])\n",
    "        c = f.read(1)\n",
    "\n"
   ]
  }
 ],
 "metadata": {
  "kernelspec": {
   "display_name": "Python 3",
   "language": "python",
   "name": "python3"
  },
  "language_info": {
   "codemirror_mode": {
    "name": "ipython",
    "version": 3
   },
   "file_extension": ".py",
   "mimetype": "text/x-python",
   "name": "python",
   "nbconvert_exporter": "python",
   "pygments_lexer": "ipython3",
   "version": "3.12.2"
  }
 },
 "nbformat": 4,
 "nbformat_minor": 2
}
