{
 "cells": [
  {
   "cell_type": "markdown",
   "metadata": {},
   "source": [
    "# Week - 5\n"
   ]
  },
  {
   "cell_type": "markdown",
   "metadata": {},
   "source": [
    "### Functions\n"
   ]
  },
  {
   "cell_type": "code",
   "execution_count": 16,
   "metadata": {},
   "outputs": [
    {
     "name": "stdout",
     "output_type": "stream",
     "text": [
      "8\n",
      "None\n",
      "1000.0\n",
      "30\n",
      "2500.02\n"
     ]
    }
   ],
   "source": [
    "def add(a, b):\n",
    "    ans = a + b\n",
    "    print(ans)  # In Python, if a function doesn't have a return statement, it returns None by default.\n",
    "                # When a function in Python does not have a return statement or has a return statement without any value, it implicitly returns None. \n",
    "                # Therefore, when you call add(1, 7) in the print statement, it performs the addition and prints the result inside the function due to the print(ans) statement, \n",
    "                # but the function itself returns None. That's why you see None being printed.\n",
    "\n",
    "\n",
    "print(add(1, 7))\n",
    "\n",
    "\n",
    "def Discount(cost, d):\n",
    "    ans = cost - (cost * (d / 100))\n",
    "    return ans\n",
    "\n",
    "\n",
    "print(Discount(2000, 50))\n",
    "\n",
    "# add(10,70) + Discount(5000 , 23)  Will give error because for this to work add() needs to return somthing like Discount()\n",
    "\n",
    "\n",
    "def sub(a, b):\n",
    "    ans = a - b\n",
    "    return ans\n",
    "    \n",
    "def mul(a, b):\n",
    "    ans = a * b\n",
    "    return ans\n",
    "    \n",
    "print(sub ( 10,5) + mul(5,5))        # Works because both the functions are returning some value in this case ans\n",
    "\n",
    "print(sub (20,70) **2 + mul(50,50)**(-1/2))     # Supports arthematic operations also (But the functions need to return somthing)"
   ]
  },
  {
   "cell_type": "code",
   "execution_count": 3,
   "metadata": {},
   "outputs": [
    {
     "name": "stdout",
     "output_type": "stream",
     "text": [
      "-10\n",
      "100\n",
      "[10, 20, 30, 1, 2, 3, 4, 5, -10, 6, 4, 100]\n",
      "[1, 2, 3, 4, 5, -10, 6, 4, 100, 10, 20, 30]\n"
     ]
    }
   ],
   "source": [
    "# Let us write a few more examples on list \n",
    "\n",
    "def list_min(l):\n",
    "    mini=l[0]\n",
    "    for i in range(len(l)):\n",
    "        if (l[i]<mini):\n",
    "            mini = l[i]\n",
    "    return mini\n",
    "\n",
    "def list_maxi(l):\n",
    "    maxi = l[0]\n",
    "    for i in range(len(l)):\n",
    "        if maxi < l[i]:\n",
    "            maxi = l[i]\n",
    "    return maxi\n",
    "\n",
    "def list_appendbefore(l,z):\n",
    "    newl=[]\n",
    "    for i in range(len(z)):\n",
    "        newl.append(z[i])\n",
    "    for i in range(len(l)):\n",
    "        newl.append(l[i])\n",
    "    return newl\n",
    "\n",
    "def list_appended(l,z):\n",
    "    newl = []\n",
    "    for i in range(len(l)):\n",
    "        newl.append(l[i])\n",
    "    for i in range(len(z)):\n",
    "        newl.append(z[i])\n",
    "    return newl\n",
    "\n",
    "l=[1,2,3,4,5,-10,6,4,100]\n",
    "print(list_min(l))\n",
    "print(list_maxi(l))\n",
    "z=[10,20,30]\n",
    "print(list_appendbefore(l,z))\n",
    "print(list_appended(l,z))"
   ]
  },
  {
   "cell_type": "code",
   "execution_count": 39,
   "metadata": {},
   "outputs": [
    {
     "name": "stdout",
     "output_type": "stream",
     "text": [
      "[]\n"
     ]
    },
    {
     "data": {
      "text/plain": [
       "[-10, 1, 2, 3, 4, 4, 5, 6, 10, 20, 30, 100]"
      ]
     },
     "execution_count": 39,
     "metadata": {},
     "output_type": "execute_result"
    }
   ],
   "source": [
    "# Finding out the minimum most element and add it to a new list and remove the element from the original list\n",
    "def descending_finder(M):\n",
    "    maxi = M[0]\n",
    "    for i in range(len(M)):\n",
    "        if M[i]>maxi:\n",
    "            maxi = M[i]\n",
    "    return maxi                 # returns the maximum of the element in M\n",
    "\n",
    "\"\"\"\n",
    "    Below function runs the function descending_finder until length of list M > 0 and it removes the maximum elemnt in each cycle so everytime the second biggest element becomes the biggest element in the next cycle \n",
    "    \n",
    "\"\"\"\n",
    "\n",
    "def descending_list(M):\n",
    "    x = []\n",
    "    while len(M) > 0:\n",
    "        maximum = descending_finder(M)  # maximum recieves whaterver descending_finder returns\n",
    "        x.append(maximum)  # appending the new list my whatever contains in maxi\n",
    "        M.remove(maximum)\n",
    "    print(M)            # Empty List\n",
    "    return x\n",
    "        \n",
    "\n",
    "\n",
    "\n",
    "\n",
    "def bubble_sort(l):\n",
    "    for i in range(len(l)):\n",
    "        for j  in range(len(l) - i -1):\n",
    "            if l[j]>l[j+1]:\n",
    "                l[j],l[j+1] = l[j+1],l[j]\n",
    "    return l\n",
    "                \n",
    "def obviou_sort(l):\n",
    "    newlist = bubble_sort(l)\n",
    "    return newlist\n",
    "\n",
    "# multiple returns in a single program does not work as you would expect. \n",
    "# The last return in the program will be shown in the output. That's way the last calling of function obvious_sort is commented out, if you remove the comment and run the program the output of the first two functions will not be visible to you.\n",
    "\n",
    "\n",
    "descending_list([10, 20, 30, 1, 2, 3, 4, 5, -10, 6, 4, 100])\n",
    "#obviou_sort([10, 20, 30, 1, 2, 3, 4, 5, -10, 6, 4, 100])"
   ]
  },
  {
   "cell_type": "markdown",
   "metadata": {},
   "source": [
    "### Dot product using functions"
   ]
  },
  {
   "cell_type": "code",
   "execution_count": 111,
   "metadata": {},
   "outputs": [
    {
     "data": {
      "text/plain": [
       "[[21, 20, 26], [57, 44, 59], [31, 34, 44]]"
      ]
     },
     "execution_count": 111,
     "metadata": {},
     "output_type": "execute_result"
    }
   ],
   "source": [
    "# I want somthing like this [[0,0,0],[0,0,0],[0,0,0]], i.e a n dimensional nul matrix matrix (yes square matrix) .\n",
    "\n",
    "def matrix_initilizer(dim):\n",
    "    c=[]\n",
    "    for i in range(dim):\n",
    "        c.append([]) # will make dim list inside c therby making it dim dimensional\n",
    "    for i in range(dim):\n",
    "        for j in range(dim):\n",
    "                c[j].append(0) # 3 dimendional null matrix\n",
    "    return c\n",
    "\n",
    "def dot_product(row , column ):\n",
    "    dim = len(row) # Assuming it is a square matrix\n",
    "    ans = matrix_initilizer(dim)\n",
    "    for i in range(dim):\n",
    "        for j in range (dim):\n",
    "            for k in range(dim):\n",
    "                ans[i][j] += x[i][k]*y[k][j]\n",
    "    return ans\n",
    "    \n",
    "x=[[1,2,3],[4,5,6],[1,4,5]]\n",
    "y=[[7,1,2],[1,2,3],[4,5,6]]\n",
    "dot_product(x,y)\n",
    "\n",
    "\n",
    "# verify\n",
    "# import numpy as np\n",
    "# print(np.mat(x)*np.mat(y))"
   ]
  },
  {
   "cell_type": "markdown",
   "metadata": {},
   "source": [
    "### Recursion"
   ]
  },
  {
   "cell_type": "code",
   "execution_count": 6,
   "metadata": {},
   "outputs": [
    {
     "data": {
      "text/plain": [
       "55"
      ]
     },
     "execution_count": 6,
     "metadata": {},
     "output_type": "execute_result"
    }
   ],
   "source": [
    "# def sum_of_n_numbers(n):\n",
    "#     sum=0\n",
    "#     while n > 0:\n",
    "#         sum += n\n",
    "#         n = n-1\n",
    "#     return sum\n",
    "\n",
    "# sum_of_n_numbers(10)\n",
    "\n",
    "\"\"\"\n",
    "    Above is an example of how you did some of n numbers in the usual way. Now let's go Pro mode\n",
    "\"\"\"\n",
    "\n",
    "def sum_of_n_numbers(n):\n",
    "    if n ==1:\n",
    "        return 1\n",
    "    else:\n",
    "        return n+sum_of_n_numbers(n-1) # resursion\n",
    "    \n",
    "\"\"\" \n",
    "    It works like this assuming n = 10\n",
    "    1. 10 + 9\n",
    "    2. 10 + 9 + 8\n",
    "    3. 10 + 9 + 8 + 7\n",
    "    4. 10 + 9 + 8 + 7 + 6 \n",
    "    5. .........\n",
    "    6. ..........\n",
    "    7. and so on\n",
    "    8.\n",
    "    9.\n",
    "    10.10 + 9 + 8 + 7 + 6 + 5 + 4 + 3 + 2 + 1\n",
    "\"\"\"\n",
    "\n",
    "sum_of_n_numbers(10)\n",
    "\n",
    "\n",
    "\n",
    "\n"
   ]
  },
  {
   "cell_type": "code",
   "execution_count": 7,
   "metadata": {},
   "outputs": [
    {
     "data": {
      "text/plain": [
       "1.9820000000000003e-35"
      ]
     },
     "execution_count": 7,
     "metadata": {},
     "output_type": "execute_result"
    }
   ],
   "source": [
    "# Compound Intereset \n",
    "\n",
    "def compound_interest(years,principal,interest_rate):\n",
    "    if years == 1:\n",
    "        return principal*(interest_rate/100)*1\n",
    "    else:\n",
    "        return compound_interest(principal,(years-1),(interest_rate/100))\n",
    "    \n",
    "compound_interest(10,1000,2)\n"
   ]
  },
  {
   "cell_type": "code",
   "execution_count": 8,
   "metadata": {},
   "outputs": [
    {
     "data": {
      "text/plain": [
       "120"
      ]
     },
     "execution_count": 8,
     "metadata": {},
     "output_type": "execute_result"
    }
   ],
   "source": [
    "#Factorial n\n",
    "\n",
    "def factorial (n):\n",
    "    if n ==1:\n",
    "        return 1 \n",
    "    else:\n",
    "        return factorial(n-1)*n\n",
    "    \n",
    "factorial(5)"
   ]
  },
  {
   "cell_type": "markdown",
   "metadata": {},
   "source": [
    "### Types of function arguments"
   ]
  },
  {
   "cell_type": "code",
   "execution_count": 10,
   "metadata": {},
   "outputs": [
    {
     "name": "stdout",
     "output_type": "stream",
     "text": [
      "25\n",
      "13\n"
     ]
    }
   ],
   "source": [
    "def add(a , b , c):   # function definition\n",
    "    return a+b -c # return statement\n",
    "\n",
    "print(add( 10, 20 ,5)) # function call with arguments\n",
    "\n",
    "# or \n",
    "\n",
    "print(add(b = 20, a = 2 , c = 9)) # function call with keyword Arguments"
   ]
  },
  {
   "cell_type": "code",
   "execution_count": 13,
   "metadata": {},
   "outputs": [
    {
     "name": "stdout",
     "output_type": "stream",
     "text": [
      "25\n",
      "20\n",
      "-53\n"
     ]
    }
   ],
   "source": [
    "def add(a = 0 , b = 0 , c = 0):   # function definition with default arguments\n",
    "    return a+b -c # return statement\n",
    "\n",
    "print(add( 10, 20 ,5)) # function call with arguments\n",
    "\n",
    "# or \n",
    "\n",
    "print(add(b = 20)) # function call with keyword Arguments , will only work if default arguments are provided in the function defination\n",
    "\n",
    "print(add(a = 23 , b = 14 , c = 90)) #function call with keyword Arguments"
   ]
  },
  {
   "cell_type": "code",
   "execution_count": 17,
   "metadata": {},
   "outputs": [
    {
     "name": "stdout",
     "output_type": "stream",
     "text": [
      "53\n",
      "None\n"
     ]
    }
   ],
   "source": [
    "def add(a ,b = 13 , c = 0):   # function definition with partial default arguments\n",
    "    print(a+b -c) # return statement\n",
    "\n",
    "print(add(40))\n",
    "\n",
    "\"\"\"\n",
    "    Why You See \"None\" After 53:\n",
    "\n",
    "    While the calculation inside the function produces 53 and gets printed, the function itself doesn't explicitly return a value.\n",
    "    When a function doesn't have a return statement, it implicitly returns None.\n",
    "    Therefore, after the print(53) inside the function, the function execution ends, and the implicit None is returned.\n",
    "    The subsequent line print(add(40)) prints the return value of the function call, which is None.\n",
    "\"\"\""
   ]
  },
  {
   "cell_type": "code",
   "execution_count": null,
   "metadata": {},
   "outputs": [],
   "source": []
  }
 ],
 "metadata": {
  "kernelspec": {
   "display_name": "Python 3",
   "language": "python",
   "name": "python3"
  },
  "language_info": {
   "codemirror_mode": {
    "name": "ipython",
    "version": 3
   },
   "file_extension": ".py",
   "mimetype": "text/x-python",
   "name": "python",
   "nbconvert_exporter": "python",
   "pygments_lexer": "ipython3",
   "version": "3.12.2"
  }
 },
 "nbformat": 4,
 "nbformat_minor": 2
}
