{
 "cells": [
  {
   "cell_type": "markdown",
   "metadata": {},
   "source": [
    "# Week 2 \n"
   ]
  },
  {
   "cell_type": "markdown",
   "metadata": {},
   "source": [
    "#### Escape characters in python"
   ]
  },
  {
   "cell_type": "code",
   "execution_count": null,
   "metadata": {},
   "outputs": [],
   "source": [
    "# print( 'It's a beautiful day')  Will not work as expected\n",
    "print('It\\'s a beautiful day')\n",
    "print('I am very must frusted BTW I am studying pyton from \\\"IIT Madras\\\" .')\n",
    "print('This is a \\t tab escape character')\n",
    "print('This is the first line\\nThis is the second line')\n",
    "\n",
    "z='''This is the third line \n",
    "This is the fourth line\n",
    "This is the fifth line\n",
    "This is the sixth line'''\n",
    "\n",
    "print(z)\n",
    "\n",
    "'''\n",
    "This is a multi-line comment\n",
    "It will not be printed\n",
    "by the compiler.\n",
    "'''"
   ]
  },
  {
   "cell_type": "markdown",
   "metadata": {},
   "source": [
    "#### String Methods"
   ]
  }
 ],
 "metadata": {
  "kernelspec": {
   "display_name": "Python 3",
   "language": "python",
   "name": "python3"
  },
  "language_info": {
   "codemirror_mode": {
    "name": "ipython",
    "version": 3
   },
   "file_extension": ".py",
   "mimetype": "text/x-python",
   "name": "python",
   "nbconvert_exporter": "python",
   "pygments_lexer": "ipython3",
   "version": "3.11.6"
  }
 },
 "nbformat": 4,
 "nbformat_minor": 2
}
