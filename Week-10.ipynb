{
 "cells": [
  {
   "cell_type": "markdown",
   "metadata": {},
   "source": [
    "# <b> Introduction to Object Oriented Programming </b>"
   ]
  },
  {
   "cell_type": "code",
   "execution_count": 4,
   "metadata": {},
   "outputs": [
    {
     "name": "stdout",
     "output_type": "stream",
     "text": [
      "0 Aniket\n",
      "None None\n",
      "Donkey 20\n"
     ]
    }
   ],
   "source": [
    "class Student: # Class name should be followed using camel casing (programming tradition)\n",
    "    roll_no = None # Because it will vary from student ot student\n",
    "    name = None # Same reason\n",
    "    \n",
    "s0 = Student() # A special type of function called constructor which has same name as the class, s0 is the object\n",
    "               # Constructer is used to build the object\n",
    "s0.roll_no = 0\n",
    "s0.name = \"Aniket\"\n",
    "print(s0.roll_no,s0.name) # Same as Java \".\" is called as the dot operator\n",
    "\n",
    "s1 = Student() # New object created s1\n",
    "print(s1.roll_no,s1.name) # prints None as nothing is assigned to the attribute roll_no and name\n",
    "\n",
    "s2 = Student() # New object created s2\n",
    "s2.roll_no = 20\n",
    "s2.name = \"Donkey\"\n",
    "print(s2.name,s2.roll_no)\n",
    "\n",
    "# This is not an ideal way of writing OOPs code, everyone will laugh at you."
   ]
  },
  {
   "cell_type": "code",
   "execution_count": 13,
   "metadata": {},
   "outputs": [
    {
     "name": "stdout",
     "output_type": "stream",
     "text": [
      "10 Aniket Pandey 200\n",
      "Pass\n",
      "11 Narendra Damodar Das Modi 80\n",
      "fail\n",
      "Mango\n"
     ]
    }
   ],
   "source": [
    "class Student: # class Student():  also works you can use parenthesis or not its your choice.\n",
    "    fruit = 'Pineapple' # Now this variable is not owned by the objects but is owned by the class as it is not decleared in the __init__ method\n",
    "                        # It can have only one value\n",
    "    '''\n",
    "    __init__ is a special method in Python classes. \n",
    "    It is known as the constructor method, and it is automatically called when a new instance of a class is created. \n",
    "    The purpose of __init__ is to initialize the object's attributes or perform any setup required for the object. \n",
    "    '''\n",
    "    def __init__(self, roll_no, name, total): \n",
    "        self.roll_no = roll_no        # self acts as a container for the object here self.roll_no = roll_no is exactly same as s0.roll_no = roll_no <-- this holds the value passed as a paremeter in the __init__ method\n",
    "        self.name = name\n",
    "        self.total = total\n",
    "        '''\n",
    "            self.roll_no and self.name are object variables \n",
    "            In this way now roll_name and name are owned by s0 and s1 as objects and so are called object variables\n",
    "            These type of variable (object variable) can store values as the number of new objects are created\n",
    "            Everytime a new object is created the __init__ method runs.\n",
    "        '''\n",
    "    \n",
    "    def display(self): # object is passed\n",
    "        print(self.roll_no, self.name, self.total) # Exactly same as s0.roll_no and s0.name or s1.roll_no and s1.name\n",
    "\n",
    "    def Result(self):\n",
    "        if self.total > 150:\n",
    "            print('Pass')\n",
    "        else:\n",
    "            print('fail')\n",
    "        \n",
    "s0 = Student(10,'Aniket Pandey',200)\n",
    "s0.display()\n",
    "s0.Result()\n",
    "\n",
    "s1 = Student(11,'Narendra Damodar Das Modi',80)\n",
    "s1.display()\n",
    "s1.Result()\n",
    "\n",
    "Student.fruit = 'Mango'\n",
    "print(Student.fruit) \n",
    "\n",
    "# This is the correct way of writing OPPs\n"
   ]
  },
  {
   "cell_type": "markdown",
   "metadata": {},
   "source": [
    "## Ineritance  "
   ]
  },
  {
   "cell_type": "code",
   "execution_count": 5,
   "metadata": {},
   "outputs": [
    {
     "name": "stdout",
     "output_type": "stream",
     "text": [
      "Aniket 18\n",
      "Ragav 19\n",
      "100\n",
      "Sunil 23\n",
      "100000\n"
     ]
    }
   ],
   "source": [
    "class Person():\n",
    "    \n",
    "    def __init__(self, name, age):\n",
    "        self.name = name\n",
    "        self.age = age\n",
    "        \n",
    "    def display(self):\n",
    "        print(self.name,self.age)\n",
    "        \n",
    "class Student(Person):                  # Student inherits from Person\n",
    "    def __init__(self, name, age, marks):   # name and age are inherited and marks is its own attribute\n",
    "        super().__init__(name, age)         # super() tells the interperator to inherit name and age from Person and pass the values to the constructor of Student class which is Student()\n",
    "        self.marks = marks                  # Student class has its own attribute, 'marks' as it is assigned by self.marks = marks. It gets assigned when the object is created by the constructor \n",
    "    \n",
    "    def display(self):\n",
    "        super().display()                   # display function is being called using super() method which comes form Person calss as Student inherits the Person class\n",
    "        print(self.marks)                   # This line of code is independent as it prints the value of marks assigned as the object of Student is created it has nothing to do with Person as it is unique attribute of Student class\n",
    "        \n",
    "class Employee(Person):                     # Employee inherits from Person\n",
    "    def __init__(self, name, age, salary ): # name and age are inherited and salary is its own attribute. Here the display function within the person class is being called.\n",
    "        super().__init__(name, age)         # super() tells the interperator to inherit name and age from Person and pass the values to the constructor of Student class which is Employee()\n",
    "        self.salary = salary                # Employee class has its own attribute, 'salary' as it is assigned by self.salry = salary. It gets assigned when the object is created by the constructor\n",
    "        \n",
    "    def display(self):\n",
    "        super().display()                   # display function is being called using super() method which comes form Person class as Epmloyee inherits the Person class. Here the display function within the person class is being called.\n",
    "        print(self.salary)                  # This line of code is independent as it prints the value of salary assigned as the object of Employee is created it has nothing to do with Person as it is unique attribute of Employee class\n",
    "        \n",
    "P = Person('Aniket',18)\n",
    "P.display()        \n",
    "\n",
    "S = Student('Ragav',19,100)\n",
    "S.display()\n",
    "\n",
    "E = Employee('Sunil',23,100000)\n",
    "E.display()\n",
    "\n",
    "'''\n",
    "    Person class mein ek constructor __init__ hai jo name aur age attributes ko initialize karta hai. Isme ek display method bhi hai jo name aur age ko print karta hai.\n",
    "\n",
    "    Student class Person class se inherit hoti hai. Isme ek apna constructor __init__ hai jo name, age, aur marks ko parameters ke roop mein le leta hai. \n",
    "    Ye parent class Person ka constructor super().__init__(name, age) ko call karta hai taki name aur age ko initialize kiya ja sake. Fir ye apna khud ka attribute marks set karta hai aur apna display method bhi hota hai. \n",
    "    Is display method mein pehle parent class Person ka display method ko super().display() se call kiya jata hai, phir marks ko print kiya jata hai.\n",
    "\n",
    "    Employee class bhi Person class se inherit hoti hai. Student class ki tarah, isme bhi ek apna constructor __init__ hai jo name, age, aur salary ko parameters ke roop mein le leta hai. \n",
    "    Ye parent class Person ka constructor super().__init__(name, age) ko call karta hai taki name aur age ko initialize kiya ja sake. \n",
    "    Fir ye apna khud ka attribute salary set karta hai aur apna display method bhi hota hai. Is display method mein pehle parent class Person ka display method ko super().display() se call kiya jata hai, phir salary ko print kiya jata hai.\n",
    "\n",
    "    Code ke antim bhag mein, Person, Student, aur Employee ke instances banaye jate hain aur unka display method ko call kiya jata hai taki unke apne-apne attributes ko print kiya ja sake.\n",
    "\n",
    "    Yeh code Python mein inheritance aur method overriding ko demonstrate karta hai, jahan subclasses (Student aur Employee) apne khud ke versions mein display method rakhte hain \n",
    "    lekin phir bhi parent class (Person) ke functionality ka upayog kar sakte hain.\n",
    "    \n",
    "'''"
   ]
  },
  {
   "cell_type": "markdown",
   "metadata": {},
   "source": [
    "## Method Overriding"
   ]
  },
  {
   "cell_type": "code",
   "execution_count": 6,
   "metadata": {},
   "outputs": [
    {
     "name": "stdout",
     "output_type": "stream",
     "text": [
      "Aniket 18\n",
      "Ragav 20 80\n",
      "Sunil 33\n"
     ]
    }
   ],
   "source": [
    "class Person():\n",
    "    def __init__(self, name, age):\n",
    "        self.name = name\n",
    "        self.age = age\n",
    "    \n",
    "    def display(self):\n",
    "        print(self.name, self.age)\n",
    "        \n",
    "class Student(Person):\n",
    "    def __init__(self, name, age, marks):\n",
    "        super().__init__(name, age)\n",
    "        self.marks = marks\n",
    "    \n",
    "    def display(self):\n",
    "        print(self.name, self.age, self.marks)   # Here unlike perevious code, display from this class (Student) is being called when it is called via the object. This is called method overriding\n",
    "        \n",
    "class Employee(Person):\n",
    "    def __init__(self, name, age, salary):\n",
    "        super().__init__(name, age)\n",
    "        self.salary = salary\n",
    "        \n",
    "    def dispaly(self):\n",
    "        print(self.name, self.age, self.salary) # Here unlike perevious code, display from this class (Employee) is being called when it is called via the object. This is called method overriding\n",
    "        \n",
    "P = Person('Aniket','18')\n",
    "P.display()\n",
    "\n",
    "S = Student('Ragav',20,80)\n",
    "S.display()\n",
    "\n",
    "E = Employee('Sunil',33,150000)\n",
    "E.display()\n",
    "\n",
    "\n",
    "'''\n",
    "    Dono codes ke display functions mei farak hai:\n",
    "\n",
    "    Pehle code me, Student class ke display function mei super().display() ka use kiya gaya hai. \n",
    "    Ye line Person class ke display function ko call karti hai. \n",
    "    Iska matlab hai ki Student class ke objects ke liye display function ke andar Person class ke display function bhi execute hoga, jisse name aur age print honge, aur phir Student class ke display function mei marks bhi print kiya jayega.\n",
    "\n",
    "    Dusre code me, Student class ke display function mei super().display() ka use nahi kiya gaya hai. \n",
    "    Isliye Person class ke display function ka call nahi hoga. Student class ke display function mei sirf name, age, aur marks print kiya jata hai.\n",
    "\n",
    "    Toh, pehle code me Student class ke display function mei Person class ke display function ka bhi use kiya gaya hai jabki dusre code me nahi.\n",
    "    \n",
    "'''"
   ]
  },
  {
   "cell_type": "markdown",
   "metadata": {},
   "source": [
    "**There are files named main.py Employee.py and Person.py. Have a look at them first then proceed further.**\n",
    "\n",
    "**In these file it is demonstrated how python packages are made and how python works with other .py (Pyton files)**\n",
    "\n",
    "**Import Statements: The code starts with import statements to import classes from separate files:**\n",
    "\n",
    "```bash\n",
    "from Student import Student\n",
    "from Employee import Employee\n",
    "from Person import Person\n",
    "```\n",
    "\n",
    "Creating Person Object and Displaying: An instance of the Person class is created with the name 'Sunil Dutt' and age 55. Then, the display method of the Person class is called to print the details of the person:\n",
    "\n",
    "```bash\n",
    "P = Person('Sunil Dutt', 55)\n",
    "P.display()\n",
    "```\n",
    "Creating Student Object and Displaying: An instance of the Student class is created with the name 'Aniket', age 18, and marks 200. Then, the display method of the Student class is called. This method first calls the display method of the superclass (Person) and then prints the marks:\n",
    "\n",
    "\n",
    "```bash\n",
    "S = Student('Aniket', 18, 200)\n",
    "S.display()\n",
    "```\n",
    "Creating Employee Object and Displaying: An instance of the Employee class is created with the name 'Rayan', age 55, and salary 100000.55. Then, the display method of the Employee class is called to print the details of the employee:\n",
    "\n",
    "\n",
    "```bash\n",
    "E = Employee('Rayan', 55, 100000.55)\n",
    "E.display()\n",
    "```\n",
    "Definition of Employee Class: The Employee class is defined, inheriting from the Person class. It has an additional attribute salary. The __init__ method initializes the name, age, and salary attributes. The display method overrides the display method of the Person class and prints the name, age, and salary of the employee:\n",
    "\n",
    "\n",
    "```bash\n",
    "from Person import Person\n",
    "\n",
    "class Employee(Person):\n",
    "    \n",
    "    def __init__(self, name, age, salary):\n",
    "        super().__init__(name, age)\n",
    "        self.salary = salary\n",
    "        \n",
    "    def display(self):\n",
    "        print(self.name, self.age, self.salary)\n",
    "```\n",
    "Definition of Student Class: The Student class is defined, also inheriting from the Person class. It has an additional attribute marks. The __init__ method initializes the name, age, and marks attributes. The display method overrides the display method of the Person class, first calling the superclass method to print the name and age, then printing the marks:\n",
    "\n",
    "\n",
    "```bash\n",
    "    from Person import Person\n",
    "\n",
    "    class Student(Person):\n",
    "        \n",
    "        def __init__(self, name, age, marks):\n",
    "            super().__init__(name, age)\n",
    "            self.marks = marks\n",
    "            \n",
    "        def display(self):\n",
    "            super().display()\n",
    "            print(self.marks)\n",
    "```\n",
    "Overall, this code demonstrates inheritance in Python, where the subclasses Student and Employee inherit attributes and methods from the superclass Person, and extend it with their own attributes and methods."
   ]
  },
  {
   "cell_type": "markdown",
   "metadata": {},
   "source": [
    "### Data Security in Python"
   ]
  },
  {
   "cell_type": "code",
   "execution_count": 2,
   "metadata": {},
   "outputs": [
    {
     "name": "stdout",
     "output_type": "stream",
     "text": [
      "Blue Sour\n",
      "Yellow Sweet 23.65\n"
     ]
    }
   ],
   "source": [
    "# Caution : This code will not work if the comment in fourth line is removed\n",
    "\n",
    "class Fruit():\n",
    "    def __init__(self,color,taste) -> None:\n",
    "        self.color = color\n",
    "        # self.__taste = taste        # Will produce AttributeError: 'Fruit' object has no attribute 'taste', as we are declearing taste as Private by using __ before it\n",
    "        self.taste = taste\n",
    "        \n",
    "    def display(self):\n",
    "        print(self.color,self.taste)\n",
    "        \n",
    "class Mango(Fruit):\n",
    "    def __init__(self,color,taste,sugar_content):\n",
    "        super().__init__(color,taste)\n",
    "        self.sugar_content = sugar_content\n",
    "        \n",
    "    def display(self):\n",
    "        print(self.color,self.taste,self.sugar_content)  # Method Overriding\n",
    "        \n",
    "F = Fruit('Blue','Sour')\n",
    "F.display()\n",
    "\n",
    "M = Mango('Yellow','Sweet',23.65)\n",
    "M.display()"
   ]
  }
 ],
 "metadata": {
  "kernelspec": {
   "display_name": "Python 3",
   "language": "python",
   "name": "python3"
  },
  "language_info": {
   "codemirror_mode": {
    "name": "ipython",
    "version": 3
   },
   "file_extension": ".py",
   "mimetype": "text/x-python",
   "name": "python",
   "nbconvert_exporter": "python",
   "pygments_lexer": "ipython3",
   "version": "3.12.2"
  }
 },
 "nbformat": 4,
 "nbformat_minor": 2
}
