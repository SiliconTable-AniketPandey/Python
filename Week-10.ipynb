{
 "cells": [
  {
   "cell_type": "markdown",
   "metadata": {},
   "source": [
    "# <b> Introduction to Object Oriented Programming </b>"
   ]
  },
  {
   "cell_type": "code",
   "execution_count": 4,
   "metadata": {},
   "outputs": [
    {
     "name": "stdout",
     "output_type": "stream",
     "text": [
      "0 Aniket\n",
      "None None\n",
      "Donkey 20\n"
     ]
    }
   ],
   "source": [
    "class Student: # Class name should be followed using camel casing (programming tradition)\n",
    "    roll_no = None # Because it will vary from student ot student\n",
    "    name = None # Same reason\n",
    "    \n",
    "s0 = Student() # A special type of function called constructor which has same name as the class, s0 is the object\n",
    "               # Constructer is used to build the object\n",
    "s0.roll_no = 0\n",
    "s0.name = \"Aniket\"\n",
    "print(s0.roll_no,s0.name) # Same as Java \".\" is called as the dot operator\n",
    "\n",
    "s1 = Student() # New object created s1\n",
    "print(s1.roll_no,s1.name) # prints None as nothing is assigned to the attribute roll_no and name\n",
    "\n",
    "s2 = Student() # New object created s2\n",
    "s2.roll_no = 20\n",
    "s2.name = \"Donkey\"\n",
    "print(s2.name,s2.roll_no)\n",
    "\n",
    "# This is not an ideal way of writing OOPs code, everyone will laugh at you."
   ]
  },
  {
   "cell_type": "code",
   "execution_count": 13,
   "metadata": {},
   "outputs": [
    {
     "name": "stdout",
     "output_type": "stream",
     "text": [
      "10 Aniket Pandey 200\n",
      "Pass\n",
      "11 Narendra Damodar Das Modi 80\n",
      "fail\n",
      "Mango\n"
     ]
    }
   ],
   "source": [
    "class Student:\n",
    "    fruit = 'Pineapple' # Now this variable is not owned by the objects but is owned by the class as it is not decleared in the __init__ method\n",
    "                        # It can have only one value\n",
    "    '''\n",
    "    __init__ is a special method in Python classes. \n",
    "    It is known as the constructor method, and it is automatically called when a new instance of a class is created. \n",
    "    The purpose of __init__ is to initialize the object's attributes or perform any setup required for the object. \n",
    "    '''\n",
    "    def __init__(self, roll_no, name, total): \n",
    "        self.roll_no = roll_no        # self acts as a container for the object here self.roll_no = roll_no is exactly same as s0.roll_no = roll_no <-- this holds the value passed as a paremeter in the __init__ method\n",
    "        self.name = name\n",
    "        self.total = total\n",
    "        '''\n",
    "            self.roll_no and self.name are object variables \n",
    "            In this way now roll_name and name are owned by s0 and s1 as objects and so are called object variables\n",
    "            These type of variable (object variable) can store values as the number of new objects are created\n",
    "            Everytime a new object is created the __init__ method runs.\n",
    "        '''\n",
    "    \n",
    "    def display(self): # object is passed\n",
    "        print(self.roll_no, self.name, self.total) # Exactly same as s0.roll_no and s0.name or s1.roll_no and s1.name\n",
    "\n",
    "    def Result(self):\n",
    "        if self.total > 150:\n",
    "            print('Pass')\n",
    "        else:\n",
    "            print('fail')\n",
    "        \n",
    "s0 = Student(10,'Aniket Pandey',200)\n",
    "s0.display()\n",
    "s0.Result()\n",
    "\n",
    "s1 = Student(11,'Narendra Damodar Das Modi',80)\n",
    "s1.display()\n",
    "s1.Result()\n",
    "\n",
    "Student.fruit = 'Mango'\n",
    "print(Student.fruit) \n",
    "\n",
    "# This is the correct way of writing OPPs\n"
   ]
  },
  {
   "cell_type": "markdown",
   "metadata": {},
   "source": [
    "## Ineritance and Method Overriding"
   ]
  },
  {
   "cell_type": "code",
   "execution_count": null,
   "metadata": {},
   "outputs": [],
   "source": []
  }
 ],
 "metadata": {
  "kernelspec": {
   "display_name": "Python 3",
   "language": "python",
   "name": "python3"
  },
  "language_info": {
   "codemirror_mode": {
    "name": "ipython",
    "version": 3
   },
   "file_extension": ".py",
   "mimetype": "text/x-python",
   "name": "python",
   "nbconvert_exporter": "python",
   "pygments_lexer": "ipython3",
   "version": "3.12.2"
  }
 },
 "nbformat": 4,
 "nbformat_minor": 2
}
