{
 "cells": [
  {
   "cell_type": "markdown",
   "metadata": {},
   "source": [
    "# <b>Week 6</b>\n"
   ]
  },
  {
   "cell_type": "markdown",
   "metadata": {},
   "source": [
    "## List and Sets\n"
   ]
  },
  {
   "attachments": {
    "image.png": {
     "image/png": "[encoded data removed]"
    }
   },
   "cell_type": "markdown",
   "metadata": {},
   "source": [
    "![image.png](attachment:image.png)\n"
   ]
  },
  {
   "cell_type": "code",
   "execution_count": 1,
   "metadata": {},
   "outputs": [
    {
     "name": "stdout",
     "output_type": "stream",
     "text": [
      "<class 'list'>\n",
      "Time taken = 13.234027 seconds\n"
     ]
    }
   ],
   "source": [
    "import time\n",
    "\n",
    "start_time = time.time()\n",
    "\n",
    "L = list(range(1000000000))\n",
    "\n",
    "\n",
    "print(type(L))\n",
    "\n",
    "end_time = time.time()\n",
    "elasped_time = end_time - start_time\n",
    "\n",
    "print(f\"Time taken ={elasped_time: .6f} seconds\")\n",
    "\n",
    "# This code took 13.234027 seconds to execute"
   ]
  },
  {
   "cell_type": "code",
   "execution_count": 2,
   "metadata": {},
   "outputs": [
    {
     "name": "stdout",
     "output_type": "stream",
     "text": [
      "<class 'set'>\n",
      "Time taken = 83.489220 seconds\n"
     ]
    }
   ],
   "source": [
    "start_time = time.time()\n",
    "\n",
    "S = set(\n",
    "    range(1000000000)\n",
    ")  # Is a set, will not contain dublicate items, Takes more time to initialize.\n",
    "\n",
    "\"\"\"\n",
    "    Set when made of large length it takes more time than list \n",
    "    But it is faster to work with.\n",
    "\"\"\"\n",
    "\n",
    "print(type(S))\n",
    "\n",
    "end_time = time.time()\n",
    "elasped_time = end_time - start_time\n",
    "\n",
    "print(f\"Time taken ={elasped_time: .6f} seconds\")\n",
    "\n",
    "# This code took 83.489220 seconds to execute"
   ]
  },
  {
   "cell_type": "code",
   "execution_count": 11,
   "metadata": {},
   "outputs": [
    {
     "name": "stdout",
     "output_type": "stream",
     "text": [
      "False\n",
      "Time taken = 102.061834 seconds\n"
     ]
    }
   ],
   "source": [
    "start_time = time.time()\n",
    "\n",
    "print(-1 in L)  # Time taken = 102.061834 seconds to go through the entire list\n",
    "\n",
    "end_time = time.time()\n",
    "elasped_time = end_time - start_time\n",
    "\n",
    "print(f\"Time taken ={elasped_time: .6f} seconds\")"
   ]
  },
  {
   "cell_type": "code",
   "execution_count": 14,
   "metadata": {},
   "outputs": [
    {
     "name": "stdout",
     "output_type": "stream",
     "text": [
      "False\n",
      "Time taken = 0.000000 seconds\n"
     ]
    }
   ],
   "source": [
    "start_time = time.time()\n",
    "\n",
    "print(\n",
    "    -1 in S\n",
    ")  # Time taken = 0.000000 seconds to go through the entire set, hence set works faster\n",
    "\n",
    "end_time = time.time()\n",
    "elasped_time = end_time - start_time\n",
    "\n",
    "print(f\"Time taken ={elasped_time: .6f} seconds\")"
   ]
  },
  {
   "cell_type": "markdown",
   "metadata": {},
   "source": [
    "## Dictonary\n"
   ]
  },
  {
   "cell_type": "code",
   "execution_count": 15,
   "metadata": {},
   "outputs": [
    {
     "name": "stdout",
     "output_type": "stream",
     "text": [
      "{'Apple': 100, 'Mangoes': 70, 'Banana': 50}\n",
      "47\n",
      "40\n"
     ]
    }
   ],
   "source": [
    "dictonary = {}\n",
    "dictonary[\"Apple\"] = 100\n",
    "dictonary[\"Mangoes\"] = 70\n",
    "dictonary[\"Banana\"] = 50\n",
    "print(dictonary)\n",
    "\n",
    "# dictonary[0] will not work like this \n",
    "\n",
    "dictonary[\"Apple\"] # anything inside \" \" is called a key and is represented by a value after : \n",
    "\n",
    "# dictonary[\"Pumpkin\"] will give a key error since it is not available in the dictonary\n",
    "\n",
    "\n",
    "x=\"Proident tempor excepteur amet reprehenderit nisi in sint commodo minim exercitation. Esse tempor ad aliqua labore ex ipsum laborum nulla et nostrud anim incididunt officia officia. Et eu sunt anim magna sunt do proident nisi officia. Consectetur nostrud proident veniam exercitation qui mollit cillum est laboris occaecat.\".split()\n",
    "\n",
    "\n",
    "\n",
    "    \n",
    "print(len(x))\n",
    "s = set(x)\n",
    "print(len(s))\n"
   ]
  }
 ],
 "metadata": {
  "kernelspec": {
   "display_name": "Python 3",
   "language": "python",
   "name": "python3"
  },
  "language_info": {
   "codemirror_mode": {
    "name": "ipython",
    "version": 3
   },
   "file_extension": ".py",
   "mimetype": "text/x-python",
   "name": "python",
   "nbconvert_exporter": "python",
   "pygments_lexer": "ipython3",
   "version": "3.12.2"
  }
 },
 "nbformat": 4,
 "nbformat_minor": 2
}
