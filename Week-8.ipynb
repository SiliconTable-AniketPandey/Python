{
 "cells": [
  {
   "cell_type": "markdown",
   "metadata": {},
   "source": [
    "# <b> Recursion </b>"
   ]
  },
  {
   "cell_type": "markdown",
   "metadata": {},
   "source": [
    "### Python also accepts function recursion, which means a defined function can call itself.\n",
    "\n",
    "### Recursion is a common mathematical and programming concept. It means that a function calls itself. This has the benefit of meaning that you can loop through data to reach a result.\n",
    "### Advantages of using recursion\n",
    "\n",
    "    A complicated function can be split down into smaller sub-problems utilizing recursion.\n",
    "    Sequence creation is simpler through recursion than utilizing any nested iteration.\n",
    "    Recursive functions render the code look simple and effective.\n",
    "\n",
    "### Disadvantages of using recursion\n",
    "\n",
    "    A lot of memory and time is taken through recursive calls which makes it expensive for use.\n",
    "    Recursive functions are challenging to debug.\n",
    "    The reasoning behind recursion can sometimes be tough to think through.\n",
    "\n"
   ]
  },
  {
   "cell_type": "code",
   "execution_count": 13,
   "metadata": {},
   "outputs": [
    {
     "name": "stdout",
     "output_type": "stream",
     "text": [
      "True\n",
      "False\n"
     ]
    }
   ],
   "source": [
    "\"\"\" A program to demonstarate recursion \n",
    "    This program check if 0 is present in the list\n",
    "\"\"\"\n",
    "\n",
    "def check_for_zero(L):\n",
    "    if len(L) == 0:\n",
    "        return 0  # 0 means False\n",
    "    if L[0] == 0:\n",
    "        return 1  # 1 means True\n",
    "    else:\n",
    "        return check_for_zero(L[1:])  # Recursively check the rest of the list\n",
    "\n",
    "result = check_for_zero([1, 2, 3, 4, 5, 0, 6, 7, 8, 9])\n",
    "print(bool(result))  # Convert result to boolean before printing or else it prints NONE\n",
    "\n",
    "result = check_for_zero([1, 2, 3, 4, 5, 6, 7, 8, 9])\n",
    "print(bool(result))  # Convert result to boolean before printing or else it prints NONE\n",
    "\n",
    "\"\"\" Please note this is a bad way of coding, or not an efficient way use some algorithm for this. \"\"\"\n"
   ]
  },
  {
   "cell_type": "code",
   "execution_count": 15,
   "metadata": {},
   "outputs": [
    {
     "data": {
      "text/plain": [
       "[0, 1, 2, 3, 4, 5, 6, 7, 8, 9, 10]"
      ]
     },
     "execution_count": 15,
     "metadata": {},
     "output_type": "execute_result"
    }
   ],
   "source": [
    "\"\"\" Sorting a list using recursion \"\"\"\n",
    "\n",
    "def minimum_finder(L):\n",
    "    minimum = L[0]\n",
    "    for x in L:\n",
    "        if minimum > x:\n",
    "            minimum = x\n",
    "    return minimum\n",
    "\n",
    "def sorting(L):\n",
    "    if L == [] or len(L) == 1: # What if the list is empty, or it has only one element?\n",
    "        return L # LOL its already sorted\n",
    "    result = minimum_finder(L)  # basically this is calling the minimum_finder function and the return from minimum_finder gets into the variable result\n",
    "    L.remove(result)\n",
    "    return [result]+sorting(L) # concatinate two list\n",
    "\n",
    "sorting([10,9,8,6,7,5,4,3,2,1,0])\n",
    "\n",
    "\"\"\" Again, please note this is a bad way of coding, or not an efficient way use some algorithm for this. \"\"\""
   ]
  },
  {
   "cell_type": "code",
   "execution_count": 47,
   "metadata": {},
   "outputs": [
    {
     "name": "stdout",
     "output_type": "stream",
     "text": [
      "9.203001022338867\n"
     ]
    },
    {
     "name": "stdout",
     "output_type": "stream",
     "text": [
      "\u001b[1;31mDocstring:\u001b[0m\n",
      "time() -> floating point number\n",
      "\n",
      "Return the current time in seconds since the Epoch.\n",
      "Fractions of a second may be present if the system clock provides them.\n",
      "\u001b[1;31mType:\u001b[0m      builtin_function_or_method"
     ]
    }
   ],
   "source": [
    "\"\"\" How do you know how much time is taken by a part of code to run, i mean how do you know the runtime of a code? \n",
    "Below is a method, not the best one but works altough you have it already inbuilt in juypter notebook \"\"\"\n",
    "\n",
    "import time\n",
    "a = time.time()\n",
    "ans = 0\n",
    "for i in range(100000000):\n",
    "    ans = i+ans\n",
    "b = time.time()\n",
    "print(b - a)\n",
    "\n",
    "# below code is kind of --help from linux if you remember, bascially it provides the documentation of the time function, but it is not very accurate.\n",
    "time.time?"
   ]
  }
 ],
 "metadata": {
  "kernelspec": {
   "display_name": "Python 3",
   "language": "python",
   "name": "python3"
  },
  "language_info": {
   "codemirror_mode": {
    "name": "ipython",
    "version": 3
   },
   "file_extension": ".py",
   "mimetype": "text/x-python",
   "name": "python",
   "nbconvert_exporter": "python",
   "pygments_lexer": "ipython3",
   "version": "3.12.2"
  }
 },
 "nbformat": 4,
 "nbformat_minor": 2
}
